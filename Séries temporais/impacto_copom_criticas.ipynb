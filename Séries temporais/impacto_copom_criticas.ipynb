{
 "cells": [
  {
   "cell_type": "code",
   "execution_count": null,
   "metadata": {},
   "outputs": [],
   "source": [
    "import pandas as pd\n",
    "import sqlite3\n",
    "import numpy as np\n",
    "import joblib\n",
    "from sklearn.feature_extraction.text import TfidfVectorizer\n",
    "import re\n",
    "import spacy\n",
    "import pickle\n",
    "\n",
    "import wordcloud\n",
    "import nltk\n",
    "\n",
    "import sys\n",
    "sys.path.insert(1, '..')\n",
    "import utils\n",
    "\n",
    "import matplotlib.pyplot as plt\n",
    "#import matplotlib.ticker as ticker\n",
    "#import seaborn as sns\n",
    "%matplotlib inline\n",
    "\n",
    "plt.rcParams[\"figure.figsize\"] = (50,20)\n",
    "plt.rcParams['figure.dpi'] = 90\n",
    "plt.rcParams.update({'font.size': 40})\n",
    "pd.set_option('display.max_colwidth', None)\n",
    "\n",
    "import warnings\n",
    "warnings.filterwarnings('ignore')  # \"error\", \"ignore\", \"always\", \"default\", \"module\" or \"on\n",
    "\n",
    "DPI = 300"
   ]
  },
  {
   "cell_type": "markdown",
   "metadata": {},
   "source": [
    "## PEGA DADOS PROCESSADOS "
   ]
  },
  {
   "cell_type": "code",
   "execution_count": null,
   "metadata": {},
   "outputs": [],
   "source": [
    "df = pd.read_pickle('dados\\\\df_processado.pkl')\n",
    "df = df[~df['sent_manual'].isin(['D'])] #remove tweets marcadaos com D\n",
    "df = df[[\"data\",\"usuario\",\"tweet\",\"tweet_limpo\"]]"
   ]
  },
  {
   "cell_type": "markdown",
   "metadata": {},
   "source": [
    "#### CLASSIFICA TWEETS"
   ]
  },
  {
   "cell_type": "markdown",
   "metadata": {},
   "source": [
    "##### Bert Neuralmind"
   ]
  },
  {
   "cell_type": "code",
   "execution_count": null,
   "metadata": {},
   "outputs": [],
   "source": [
    "df_aux = pd.read_pickle('dados\\\\df_BERT_neuralmind.pkl')\n",
    "df = df.merge(df_aux, how='left', left_index=True, right_index=True)\n"
   ]
  },
  {
   "cell_type": "code",
   "execution_count": null,
   "metadata": {},
   "outputs": [],
   "source": [
    "print(df['BERT_neuralmind'].value_counts().sort_values(ascending=False))\n",
    "print(\"N {:.2f}\".format(df['BERT_neuralmind'].value_counts().sort_values(ascending=False)[0]/df['BERT_neuralmind'].value_counts().sort_values(ascending=False).sum()))\n",
    "print(\"N {:.2f}\".format(df['BERT_neuralmind'].value_counts().sort_values(ascending=False)[1]/df['BERT_neuralmind'].value_counts().sort_values(ascending=False).sum()))"
   ]
  },
  {
   "cell_type": "code",
   "execution_count": null,
   "metadata": {},
   "outputs": [],
   "source": [
    "df = df.reset_index() \n",
    "df = df.drop_duplicates()\n",
    "df.tweet = df.tweet.str.lower()"
   ]
  },
  {
   "cell_type": "markdown",
   "metadata": {},
   "source": [
    "## SÉRIE DO COPOM"
   ]
  },
  {
   "cell_type": "code",
   "execution_count": null,
   "metadata": {},
   "outputs": [],
   "source": [
    "df_copom = df[df['tweet'].apply(lambda x: x.lower()).str.contains('|'.join(['copom','selic'])) ]\n",
    "df_copom = df_copom.loc[df_copom['data']>\"2010-01-01\"]\n",
    "# a list of \"1\" to count the hashtags\n",
    "ones = [1]*df_copom['data'].shape[0]\n",
    "# the index of the series\n",
    "idx = pd.DatetimeIndex(df_copom['data'])\n",
    "# Resampling / bucketing\n",
    "s_h_copom = pd.Series(ones, index=idx).resample('H').sum().fillna(0)\n",
    "df_copom.shape"
   ]
  },
  {
   "cell_type": "markdown",
   "metadata": {},
   "source": [
    "## PEGA DATAS DO COPOM"
   ]
  },
  {
   "cell_type": "code",
   "execution_count": null,
   "metadata": {
    "slideshow": {
     "slide_type": "skip"
    }
   },
   "outputs": [],
   "source": [
    "datas = pd.read_csv(\"base_sqlite3\\\\datas-copom.csv\", header=None)\n",
    "datas.columns = [\"datas\"]\n",
    "datas.datas = pd.to_datetime(datas.datas)\n",
    "datas.shape"
   ]
  },
  {
   "cell_type": "code",
   "execution_count": null,
   "metadata": {},
   "outputs": [],
   "source": [
    "datas = datas.loc[datas['datas']>\"2010-01-01\"]"
   ]
  },
  {
   "cell_type": "markdown",
   "metadata": {},
   "source": [
    "## Pega a hora da divulgação da decisão do Copom"
   ]
  },
  {
   "cell_type": "code",
   "execution_count": null,
   "metadata": {},
   "outputs": [],
   "source": [
    "d = np.datetime_as_string(datas.datas.values, unit = 'h')\n",
    "d_mais15 = np.datetime_as_string( datas.datas.values + np.timedelta64(15,'h'), unit = 'h')\n",
    "d_mais24 = np.datetime_as_string( datas.datas.values + np.timedelta64(24,'h'), unit = 'h')\n",
    "\n",
    "arr_h = np.empty((0, 10))\n",
    "for i in range(0,(d.shape[0])):\n",
    "    str2 = str(d_mais24[i])\n",
    "    str1 = str(d_mais15[i])\n",
    "    arr_h = np.vstack((arr_h,s_h_copom[str1:str2].values))"
   ]
  },
  {
   "cell_type": "code",
   "execution_count": null,
   "metadata": {},
   "outputs": [],
   "source": [
    "# o índice idx_h representa o número de horas após às 15hs em que se deu o anúcio do copom\n",
    "idx_h = arr_h.argmax(axis = 1)\n",
    "#hora_copom = np.datetime_as_string( datas.datas.values + np.timedelta64(15,'h') + np.timedelta64(idx_h,'h') , unit = 'h')\n",
    "hora_copom = np.array( [datas.datas.values[i] + np.timedelta64(15,'h') + np.timedelta64(idx_h[i],'h')  for i in range(idx_h.shape[0])])\n"
   ]
  },
  {
   "cell_type": "markdown",
   "metadata": {},
   "source": [
    "## monta dataframe de impacto"
   ]
  },
  {
   "cell_type": "code",
   "execution_count": null,
   "metadata": {},
   "outputs": [],
   "source": [
    "df_copom.set_index('data', inplace=True)"
   ]
  },
  {
   "cell_type": "code",
   "execution_count": null,
   "metadata": {},
   "outputs": [],
   "source": [
    "d = np.datetime_as_string(hora_copom, unit = 'h')\n",
    "d_menos1 = np.datetime_as_string( hora_copom - np.timedelta64(1,'h'), unit = 'h')\n",
    "d_menos24 = np.datetime_as_string( hora_copom - np.timedelta64(24,'h'), unit = 'h')\n",
    "d_mais24 = np.datetime_as_string( hora_copom + np.timedelta64(24,'h'), unit = 'h')\n",
    "\n",
    "pre_copom = []\n",
    "pos_copom = []\n",
    "pre_copom_tot = []\n",
    "pos_copom_tot = []\n",
    "\n",
    "\n",
    "for i in range(d.shape[0]):\n",
    "    str0 = str(d[i])\n",
    "    str0_ = str(d_menos1[i])\n",
    "    str1 = str(d_menos24[i])\n",
    "    str2 = str(d_mais24[i])\n",
    "    #pre copom\n",
    "    total = df_copom.loc[str1:str0_, 'BERT_neuralmind'].value_counts().values\n",
    "    if total.shape[0] == 2:\n",
    "        neutros, criticas = total\n",
    "    elif total.shape[0] ==1:\n",
    "        neutros = total[0]\n",
    "        criticas = 0\n",
    "    else:\n",
    "        raise(\"total.shape diferente de 2 e de 1\")\n",
    "    pre_copom.append( criticas/(criticas+neutros) )\n",
    "    pre_copom_tot.append( criticas+neutros ) \n",
    "    #pos copom\n",
    "    total = df_copom.loc[str0:str2, 'BERT_neuralmind'].value_counts().values\n",
    "    if total.shape[0] == 2:\n",
    "        neutros, criticas = total\n",
    "    elif total.shape[0] ==1:\n",
    "        neutros = total[0]\n",
    "        criticas = 0\n",
    "    else:\n",
    "        raise(\"total.shape diferente de 2 e de 1\")\n",
    "    pos_copom.append( criticas/(criticas+neutros) )\n",
    "    pos_copom_tot.append( criticas+neutros ) \n",
    "\n"
   ]
  },
  {
   "cell_type": "code",
   "execution_count": null,
   "metadata": {},
   "outputs": [],
   "source": [
    "df_impacto_copom = pd.DataFrame({'pre' : pre_copom,\n",
    "                                 'pos' : pos_copom,\n",
    "                                 'pre_total' : pre_copom_tot,\n",
    "                                 'pos_total' : pos_copom_tot,\n",
    "                                 'reuniao' : [i for i in range(234,(234-87),-1)]},\n",
    "                               index=hora_copom)\n",
    "df_impacto_copom = df_impacto_copom.sort_index()\n",
    "df_impacto_copom"
   ]
  },
  {
   "cell_type": "code",
   "execution_count": null,
   "metadata": {},
   "outputs": [],
   "source": [
    "df_impacto_copom[['pre','pos']].plot.bar();"
   ]
  },
  {
   "cell_type": "code",
   "execution_count": null,
   "metadata": {},
   "outputs": [],
   "source": [
    "df_impacto_copom[df_impacto_copom.index>\"2020-03-01\"][['pre','pos']].plot.bar();"
   ]
  },
  {
   "cell_type": "code",
   "execution_count": null,
   "metadata": {},
   "outputs": [],
   "source": [
    "df_impacto_copom['razao'] = df_impacto_copom['pos']/df_impacto_copom['pre']"
   ]
  },
  {
   "cell_type": "code",
   "execution_count": null,
   "metadata": {},
   "outputs": [],
   "source": [
    "df_impacto_copom['pos'].plot(linewidth=10);"
   ]
  },
  {
   "cell_type": "code",
   "execution_count": null,
   "metadata": {},
   "outputs": [],
   "source": [
    "df_impacto_copom['razao'].plot.bar(title='razão pós/pré');"
   ]
  },
  {
   "cell_type": "markdown",
   "metadata": {},
   "source": [
    "COPOM COM MAIS TWEETS"
   ]
  },
  {
   "cell_type": "code",
   "execution_count": null,
   "metadata": {},
   "outputs": [],
   "source": [
    "df_impacto_copom['total'] = df_impacto_copom['pos_total']+df_impacto_copom['pre_total']"
   ]
  },
  {
   "cell_type": "code",
   "execution_count": null,
   "metadata": {},
   "outputs": [],
   "source": [
    "df_impacto_copom['total'].sort_values(ascending=False)"
   ]
  },
  {
   "cell_type": "code",
   "execution_count": null,
   "metadata": {},
   "outputs": [],
   "source": [
    "df_impacto_copom.sort_values(ascending=False, by='total')[['reuniao','total']]"
   ]
  },
  {
   "cell_type": "code",
   "execution_count": null,
   "metadata": {},
   "outputs": [],
   "source": [
    "copom_mais_tweets = df_impacto_copom['total'].sort_values(ascending=False).index[0]"
   ]
  },
  {
   "cell_type": "markdown",
   "metadata": {},
   "source": [
    "COPOM COM MAIORES RAZÕES ENTRE DEPOIS E ANTES"
   ]
  },
  {
   "cell_type": "code",
   "execution_count": null,
   "metadata": {},
   "outputs": [],
   "source": [
    "df_impacto_copom['razao_total'] = df_impacto_copom['pos_total']/df_impacto_copom['pre_total']"
   ]
  },
  {
   "cell_type": "code",
   "execution_count": null,
   "metadata": {},
   "outputs": [],
   "source": [
    "df_impacto_copom['razao_total'].sort_values(ascending=False)"
   ]
  },
  {
   "cell_type": "code",
   "execution_count": null,
   "metadata": {},
   "outputs": [],
   "source": [
    "df_impacto_copom.sort_values(ascending=False, by=\"razao_total\")[['reuniao','razao_total']]"
   ]
  },
  {
   "cell_type": "code",
   "execution_count": null,
   "metadata": {},
   "outputs": [],
   "source": [
    "copom_maior_razao_tweets = df_impacto_copom['razao_total'].sort_values(ascending=False).index[0]"
   ]
  },
  {
   "cell_type": "markdown",
   "metadata": {},
   "source": [
    "COPOM COM MAIORES CRÍTICAS"
   ]
  },
  {
   "cell_type": "code",
   "execution_count": null,
   "metadata": {},
   "outputs": [],
   "source": [
    "df_impacto_copom['pos'].sort_values(ascending=False)"
   ]
  },
  {
   "cell_type": "code",
   "execution_count": null,
   "metadata": {},
   "outputs": [],
   "source": [
    "df_impacto_copom.sort_values(ascending=False, by=\"pos\")[['reuniao','pos']]"
   ]
  },
  {
   "cell_type": "code",
   "execution_count": null,
   "metadata": {},
   "outputs": [],
   "source": [
    "copom_mais_criticas = df_impacto_copom['pos'].sort_values(ascending=False).index[0]"
   ]
  },
  {
   "cell_type": "markdown",
   "metadata": {},
   "source": [
    "COPOM COM MAIOR AUMENTO DE CRITICA"
   ]
  },
  {
   "cell_type": "code",
   "execution_count": null,
   "metadata": {},
   "outputs": [],
   "source": [
    "df_impacto_copom['razao'].sort_values(ascending=False)"
   ]
  },
  {
   "cell_type": "code",
   "execution_count": null,
   "metadata": {},
   "outputs": [],
   "source": [
    "df_impacto_copom.sort_values(ascending=False,by='razao')"
   ]
  },
  {
   "cell_type": "code",
   "execution_count": null,
   "metadata": {},
   "outputs": [],
   "source": [
    "df_impacto_copom[df_impacto_copom.pre>0].sort_values(ascending=False,by='razao')[['reuniao','razao']]"
   ]
  },
  {
   "cell_type": "code",
   "execution_count": null,
   "metadata": {},
   "outputs": [],
   "source": [
    "copom_maior_razao_criticas = df_impacto_copom[df_impacto_copom.pre>0].sort_values(ascending=False,by='razao').index[0]"
   ]
  },
  {
   "cell_type": "markdown",
   "metadata": {},
   "source": [
    "AVALIANDO CONTEÚDOS DOS COPOMS COM MAIORES IMPACTOS"
   ]
  },
  {
   "cell_type": "code",
   "execution_count": null,
   "metadata": {},
   "outputs": [],
   "source": [
    "stopwords = nltk.corpus.stopwords.words('portuguese')+['copom','taxa','selic','juros','juro','básico']\n",
    "mystopwords = utils.mystopwords"
   ]
  },
  {
   "cell_type": "code",
   "execution_count": null,
   "metadata": {},
   "outputs": [],
   "source": [
    "corpus = df_copom.tweet_limpo.to_list()\n",
    "corpus = utils.corrige_lema(corpus)\n",
    "df_copom[\"tweet_limpo_corrigido\"] = corpus"
   ]
  },
  {
   "cell_type": "code",
   "execution_count": null,
   "metadata": {},
   "outputs": [],
   "source": []
  },
  {
   "cell_type": "code",
   "execution_count": null,
   "metadata": {},
   "outputs": [],
   "source": [
    "print(copom_mais_tweets)\n",
    "s_aux = df_copom[\"tweet_limpo_corrigido\"]\n",
    "str0 = str(np.datetime_as_string(np.datetime64(copom_mais_tweets), unit = 'h'))\n",
    "str0_ = str(np.datetime_as_string( np.datetime64(copom_mais_tweets) - np.timedelta64(1,'h'), unit = 'h'))\n",
    "str1 = str(np.datetime_as_string( np.datetime64(copom_mais_tweets) - np.timedelta64(24,'h'), unit = 'h'))\n",
    "str2 = str(np.datetime_as_string( np.datetime64(copom_mais_tweets) + np.timedelta64(1,'h'), unit = 'h'))\n",
    "\n",
    "plt.rcParams[\"figure.figsize\"] = (16,9)\n",
    "plt.rcParams.update({'font.size': 10})\n",
    "fig = plt.figure()\n",
    "\n",
    "plt.subplot(1, 2, 1)\n",
    "cloud = wordcloud.WordCloud(stopwords=stopwords+mystopwords, max_font_size=50, max_words=100, background_color=\"white\",min_word_length=4).\\\n",
    "generate(' '.join(s_aux[str1:str0_].to_list()).lower())\n",
    "# Display the generated image:\n",
    "plt.imshow(cloud, interpolation='bilinear')\n",
    "plt.axis(\"off\")\n",
    "plt.title(\"Antes\");\n",
    "#plt.show()\n",
    "\n",
    "plt.subplot(1, 2, 2)\n",
    "cloud = wordcloud.WordCloud(stopwords=stopwords+mystopwords, max_font_size=50, max_words=100, background_color=\"white\",min_word_length=4).\\\n",
    "generate(' '.join(s_aux[str0:str2].to_list()).lower())\n",
    "# Display the generated image:\n",
    "plt.imshow(cloud, interpolation='bilinear')\n",
    "plt.axis(\"off\")\n",
    "plt.title(\"Depois\");\n",
    "#plt.show()\n",
    "\n",
    "plt.savefig(\"imagens\\\\Wordcloud_copom_mais_tweets.pdf\", dpi=DPI)"
   ]
  },
  {
   "cell_type": "code",
   "execution_count": null,
   "metadata": {},
   "outputs": [],
   "source": [
    "print(copom_maior_razao_tweets)\n",
    "s_aux = df_copom[\"tweet_limpo_corrigido\"]\n",
    "str0 = str(np.datetime_as_string(np.datetime64(copom_maior_razao_tweets), unit = 'h'))\n",
    "str0_ = str(np.datetime_as_string( np.datetime64(copom_maior_razao_tweets) - np.timedelta64(1,'h'), unit = 'h'))\n",
    "str1 = str(np.datetime_as_string( np.datetime64(copom_maior_razao_tweets) - np.timedelta64(24,'h'), unit = 'h'))\n",
    "str2 = str(np.datetime_as_string( np.datetime64(copom_maior_razao_tweets) + np.timedelta64(1,'h'), unit = 'h'))\n",
    "\n",
    "plt.rcParams[\"figure.figsize\"] = (16,9)\n",
    "plt.rcParams.update({'font.size': 10})\n",
    "fig = plt.figure()\n",
    "\n",
    "plt.subplot(1, 2, 1)\n",
    "cloud = wordcloud.WordCloud(stopwords=stopwords+mystopwords, max_font_size=50, max_words=100, background_color=\"white\",min_word_length=4).\\\n",
    "generate(' '.join(s_aux[str1:str0_].to_list()).lower())\n",
    "# Display the generated image:\n",
    "plt.imshow(cloud, interpolation='bilinear')\n",
    "plt.axis(\"off\")\n",
    "plt.title(\"Antes\");\n",
    "#plt.show()\n",
    "\n",
    "plt.subplot(1, 2, 2)\n",
    "cloud = wordcloud.WordCloud(stopwords=stopwords+mystopwords, max_font_size=50, max_words=100, background_color=\"white\",min_word_length=4).\\\n",
    "generate(' '.join(s_aux[str0:str2].to_list()).lower())\n",
    "# Display the generated image:\n",
    "plt.imshow(cloud, interpolation='bilinear')\n",
    "plt.axis(\"off\")\n",
    "plt.title(\"Depois\");\n",
    "#plt.show()\n",
    "\n",
    "plt.savefig(\"imagens\\\\Wordcloud_copom_maior_razao_tweets.pdf\", dpi=DPI)"
   ]
  },
  {
   "cell_type": "code",
   "execution_count": null,
   "metadata": {},
   "outputs": [],
   "source": [
    "print(copom_mais_criticas)\n",
    "s_aux = df_copom[\"tweet_limpo_corrigido\"]\n",
    "str0 = str(np.datetime_as_string(np.datetime64(copom_mais_criticas), unit = 'h'))\n",
    "str0_ = str(np.datetime_as_string( np.datetime64(copom_mais_criticas) - np.timedelta64(1,'h'), unit = 'h'))\n",
    "str1 = str(np.datetime_as_string( np.datetime64(copom_mais_criticas) - np.timedelta64(24,'h'), unit = 'h'))\n",
    "str2 = str(np.datetime_as_string( np.datetime64(copom_mais_criticas) + np.timedelta64(1,'h'), unit = 'h'))\n",
    "\n",
    "plt.rcParams[\"figure.figsize\"] = (16,9)\n",
    "plt.rcParams.update({'font.size': 10})\n",
    "fig = plt.figure()\n",
    "\n",
    "plt.subplot(1, 2, 1)\n",
    "cloud = wordcloud.WordCloud(stopwords=stopwords+mystopwords, max_font_size=50, max_words=100, background_color=\"white\",min_word_length=4).\\\n",
    "generate(' '.join(s_aux[str1:str0_].to_list()).lower())\n",
    "# Display the generated image:\n",
    "plt.imshow(cloud, interpolation='bilinear')\n",
    "plt.axis(\"off\")\n",
    "plt.title(\"Antes\");\n",
    "#plt.show()\n",
    "\n",
    "plt.subplot(1, 2, 2)\n",
    "cloud = wordcloud.WordCloud(stopwords=stopwords+mystopwords, max_font_size=50, max_words=100, background_color=\"white\",min_word_length=4).\\\n",
    "generate(' '.join(s_aux[str0:str2].to_list()).lower())\n",
    "# Display the generated image:\n",
    "plt.imshow(cloud, interpolation='bilinear')\n",
    "plt.axis(\"off\")\n",
    "plt.title(\"Depois\");\n",
    "#plt.show()\n",
    "\n",
    "plt.savefig(\"imagens\\\\Wordcloud_copom_mais_criticas.pdf\", dpi=DPI)"
   ]
  },
  {
   "cell_type": "code",
   "execution_count": null,
   "metadata": {},
   "outputs": [],
   "source": [
    "print(copom_maior_razao_criticas)\n",
    "s_aux = df_copom[\"tweet_limpo_corrigido\"]\n",
    "str0 = str(np.datetime_as_string(np.datetime64(copom_maior_razao_criticas), unit = 'h'))\n",
    "str0_ = str(np.datetime_as_string( np.datetime64(copom_maior_razao_criticas) - np.timedelta64(1,'h'), unit = 'h'))\n",
    "str1 = str(np.datetime_as_string( np.datetime64(copom_maior_razao_criticas) - np.timedelta64(24,'h'), unit = 'h'))\n",
    "str2 = str(np.datetime_as_string( np.datetime64(copom_maior_razao_criticas) + np.timedelta64(1,'h'), unit = 'h'))\n",
    "\n",
    "plt.rcParams[\"figure.figsize\"] = (16,9)\n",
    "plt.rcParams.update({'font.size': 10})\n",
    "fig = plt.figure()\n",
    "\n",
    "plt.subplot(1, 2, 1)\n",
    "cloud = wordcloud.WordCloud(stopwords=stopwords+mystopwords, max_font_size=50, max_words=100, background_color=\"white\",min_word_length=4).\\\n",
    "generate(' '.join(s_aux[str1:str0_].to_list()).lower())\n",
    "# Display the generated image:\n",
    "plt.imshow(cloud, interpolation='bilinear')\n",
    "plt.axis(\"off\")\n",
    "plt.title(\"Antes\");\n",
    "#plt.show()\n",
    "\n",
    "plt.subplot(1, 2, 2)\n",
    "cloud = wordcloud.WordCloud(stopwords=stopwords+mystopwords, max_font_size=50, max_words=100, background_color=\"white\",min_word_length=4).\\\n",
    "generate(' '.join(s_aux[str0:str2].to_list()).lower())\n",
    "# Display the generated image:\n",
    "plt.imshow(cloud, interpolation='bilinear')\n",
    "plt.axis(\"off\")\n",
    "plt.title(\"Depois\");\n",
    "#plt.show()\n",
    "\n",
    "plt.savefig(\"imagens\\\\Wordcloud_copom_maior_razao_criticas.pdf\", dpi=DPI)"
   ]
  },
  {
   "cell_type": "code",
   "execution_count": null,
   "metadata": {},
   "outputs": [],
   "source": []
  }
 ],
 "metadata": {
  "kernelspec": {
   "display_name": "Python 3",
   "language": "python",
   "name": "python3"
  },
  "language_info": {
   "codemirror_mode": {
    "name": "ipython",
    "version": 3
   },
   "file_extension": ".py",
   "mimetype": "text/x-python",
   "name": "python",
   "nbconvert_exporter": "python",
   "pygments_lexer": "ipython3",
   "version": "3.7.7"
  }
 },
 "nbformat": 4,
 "nbformat_minor": 4
}
