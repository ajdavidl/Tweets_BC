{
 "cells": [
  {
   "cell_type": "markdown",
   "metadata": {
    "id": "AGmREGmtpY5G"
   },
   "source": [
    "# (MultiFiT) Portuguese Text Classifier \n",
    "### MultiFiT configuration\n",
    "- **Architecture 4 QRNN with 1550 hidden parameters by layer, SentencePiece tokenizer (15 000 tokens)**\n",
    "- **Hyperparameters and training method from the MultiFiT paper**"
   ]
  },
  {
   "cell_type": "markdown",
   "metadata": {
    "id": "w045QTw6pY5H"
   },
   "source": [
    "Notebook original:\n",
    "- https://raw.githubusercontent.com/piegu/language-models/master/lm3-portuguese-classifier-TCU-jurisprudencia.ipynb\n"
   ]
  },
  {
   "cell_type": "markdown",
   "metadata": {
    "id": "93GVDSf8pY5I"
   },
   "source": [
    "## Initialisation"
   ]
  },
  {
   "cell_type": "code",
   "execution_count": null,
   "metadata": {
    "colab": {
     "base_uri": "https://localhost:8080/",
     "height": 34
    },
    "executionInfo": {
     "elapsed": 3583,
     "status": "ok",
     "timestamp": 1601428061590,
     "user": {
      "displayName": "Antônio David",
      "photoUrl": "",
      "userId": "07452527623579301827"
     },
     "user_tz": 180
    },
    "id": "i2ra-y5pu5_w",
    "outputId": "ca73187f-a2bd-4430-f060-b2456e3e5821"
   },
   "outputs": [],
   "source": [
    "!pip install sentencepiece"
   ]
  },
  {
   "cell_type": "code",
   "execution_count": null,
   "metadata": {
    "colab": {
     "base_uri": "https://localhost:8080/",
     "height": 34
    },
    "executionInfo": {
     "elapsed": 5674,
     "status": "ok",
     "timestamp": 1601428063694,
     "user": {
      "displayName": "Antônio David",
      "photoUrl": "",
      "userId": "07452527623579301827"
     },
     "user_tz": 180
    },
    "id": "dh-NEt6Owjmw",
    "outputId": "03a2ce24-277d-417f-d82b-de8366448ea8"
   },
   "outputs": [],
   "source": [
    "!pip install ninja"
   ]
  },
  {
   "cell_type": "code",
   "execution_count": null,
   "metadata": {
    "executionInfo": {
     "elapsed": 5664,
     "status": "ok",
     "timestamp": 1601428063695,
     "user": {
      "displayName": "Antônio David",
      "photoUrl": "",
      "userId": "07452527623579301827"
     },
     "user_tz": 180
    },
    "id": "LUUJNzbDpY5I"
   },
   "outputs": [],
   "source": [
    "import torch\n",
    "torch.cuda.current_device() # temque chamar essa função primeiro para evitar erro na inicializaçao do CUDA\n",
    "torch.cuda.set_device(0)"
   ]
  },
  {
   "cell_type": "code",
   "execution_count": null,
   "metadata": {
    "colab": {
     "base_uri": "https://localhost:8080/",
     "height": 34
    },
    "executionInfo": {
     "elapsed": 5661,
     "status": "ok",
     "timestamp": 1601428063698,
     "user": {
      "displayName": "Antônio David",
      "photoUrl": "",
      "userId": "07452527623579301827"
     },
     "user_tz": 180
    },
    "id": "TURgRFbaMWyC",
    "outputId": "19f56687-4549-42b1-e1eb-0cbb9b129d96"
   },
   "outputs": [],
   "source": [
    "torch.cuda.is_available()"
   ]
  },
  {
   "cell_type": "code",
   "execution_count": null,
   "metadata": {
    "colab": {
     "base_uri": "https://localhost:8080/",
     "height": 34
    },
    "executionInfo": {
     "elapsed": 5651,
     "status": "ok",
     "timestamp": 1601428063699,
     "user": {
      "displayName": "Antônio David",
      "photoUrl": "",
      "userId": "07452527623579301827"
     },
     "user_tz": 180
    },
    "id": "BzAK8LX2Mb8H",
    "outputId": "5e3af92e-344f-4ff1-be83-7d9f4d1f94d7"
   },
   "outputs": [],
   "source": [
    "torch.backends.cudnn.enabled"
   ]
  },
  {
   "cell_type": "code",
   "execution_count": null,
   "metadata": {
    "executionInfo": {
     "elapsed": 6077,
     "status": "ok",
     "timestamp": 1601428064135,
     "user": {
      "displayName": "Antônio David",
      "photoUrl": "",
      "userId": "07452527623579301827"
     },
     "user_tz": 180
    },
    "id": "-rEAMTs4pY5L"
   },
   "outputs": [],
   "source": [
    "\n",
    "%reload_ext autoreload\n",
    "%autoreload 2\n",
    "%matplotlib inline\n",
    "\n",
    "from fastai import *\n",
    "from fastai.text import *\n",
    "from fastai.callbacks import *\n",
    "\n",
    "import matplotlib.cm as cm"
   ]
  },
  {
   "cell_type": "code",
   "execution_count": null,
   "metadata": {
    "executionInfo": {
     "elapsed": 6073,
     "status": "ok",
     "timestamp": 1601428064136,
     "user": {
      "displayName": "Antônio David",
      "photoUrl": "",
      "userId": "07452527623579301827"
     },
     "user_tz": 180
    },
    "id": "4aM_7LQPpY5O"
   },
   "outputs": [],
   "source": [
    "bs=16"
   ]
  },
  {
   "cell_type": "code",
   "execution_count": null,
   "metadata": {
    "colab": {
     "base_uri": "https://localhost:8080/",
     "height": 34
    },
    "executionInfo": {
     "elapsed": 6067,
     "status": "ok",
     "timestamp": 1601428064136,
     "user": {
      "displayName": "Antônio David",
      "photoUrl": "",
      "userId": "07452527623579301827"
     },
     "user_tz": 180
    },
    "id": "inFADYG2q3Bx",
    "outputId": "3c9b26a3-472e-4d9c-b742-3def582b3795"
   },
   "outputs": [],
   "source": [
    "from google.colab import drive\n",
    "drive.mount('/content/drive')"
   ]
  },
  {
   "cell_type": "code",
   "execution_count": null,
   "metadata": {
    "executionInfo": {
     "elapsed": 6058,
     "status": "ok",
     "timestamp": 1601428064137,
     "user": {
      "displayName": "Antônio David",
      "photoUrl": "",
      "userId": "07452527623579301827"
     },
     "user_tz": 180
    },
    "id": "7-LiX-wN9gGE"
   },
   "outputs": [],
   "source": []
  },
  {
   "cell_type": "code",
   "execution_count": null,
   "metadata": {
    "executionInfo": {
     "elapsed": 6053,
     "status": "ok",
     "timestamp": 1601428064137,
     "user": {
      "displayName": "Antônio David",
      "photoUrl": "",
      "userId": "07452527623579301827"
     },
     "user_tz": 180
    },
    "id": "jB4fyHxApY5Q"
   },
   "outputs": [],
   "source": [
    "#data_path = Config.data_path()\n",
    "#import os\n",
    "#data_path = os.getcwd()\n",
    "#data_path"
   ]
  },
  {
   "cell_type": "code",
   "execution_count": null,
   "metadata": {
    "executionInfo": {
     "elapsed": 6047,
     "status": "ok",
     "timestamp": 1601428064137,
     "user": {
      "displayName": "Antônio David",
      "photoUrl": "",
      "userId": "07452527623579301827"
     },
     "user_tz": 180
    },
    "id": "3PBO6KUnpY5T"
   },
   "outputs": [],
   "source": [
    "lang = 'pt'"
   ]
  },
  {
   "cell_type": "code",
   "execution_count": null,
   "metadata": {
    "colab": {
     "base_uri": "https://localhost:8080/",
     "height": 68
    },
    "executionInfo": {
     "elapsed": 6043,
     "status": "ok",
     "timestamp": 1601428064138,
     "user": {
      "displayName": "Antônio David",
      "photoUrl": "",
      "userId": "07452527623579301827"
     },
     "user_tz": 180
    },
    "id": "uuDN5t1rpY5V",
    "outputId": "655e7da6-239b-4e46-91d6-a20a0da39710"
   },
   "outputs": [],
   "source": [
    "\n",
    "path = f'/content/drive/My Drive/Colab Notebooks/Tweets_BC'\n",
    "\n",
    "\n",
    "lm_fns3 = [f'{lang}_wt_sp15_multifit', f'{lang}_wt_vocab_sp15_multifit']\n",
    "lm_fns3_bwd = [f'{lang}_wt_sp15_multifit_bwd', f'{lang}_wt_vocab_sp15_multifit_bwd']\n",
    "print(path)\n",
    "print(lm_fns3)\n",
    "print(lm_fns3_bwd)"
   ]
  },
  {
   "cell_type": "code",
   "execution_count": null,
   "metadata": {
    "executionInfo": {
     "elapsed": 6033,
     "status": "ok",
     "timestamp": 1601428064138,
     "user": {
      "displayName": "Antônio David",
      "photoUrl": "",
      "userId": "07452527623579301827"
     },
     "user_tz": 180
    },
    "id": "oZfbpZSVpY5Y"
   },
   "outputs": [],
   "source": [
    "from sklearn.metrics import f1_score\n",
    "\n",
    "@np_func\n",
    "def f1(inp,targ): return f1_score(targ, np.argmax(inp, axis=-1), average='weighted')"
   ]
  },
  {
   "cell_type": "code",
   "execution_count": null,
   "metadata": {
    "executionInfo": {
     "elapsed": 6028,
     "status": "ok",
     "timestamp": 1601428064138,
     "user": {
      "displayName": "Antônio David",
      "photoUrl": "",
      "userId": "07452527623579301827"
     },
     "user_tz": 180
    },
    "id": "cQGPRBvrpY5a"
   },
   "outputs": [],
   "source": [
    "# source: https://github.com/fastai/fastai/blob/master//fastai/layers.py#L300:7\n",
    "# blog: https://bfarzin.github.io/Label-Smoothing/\n",
    "class WeightedLabelSmoothingCrossEntropy(nn.Module):\n",
    "    def __init__(self, weight, eps:float=0.1, reduction='mean'):\n",
    "        super().__init__()\n",
    "        self.weight,self.eps,self.reduction = weight,eps,reduction\n",
    "        \n",
    "    def forward(self, output, target):\n",
    "        c = output.size()[-1]\n",
    "        log_preds = F.log_softmax(output, dim=-1)\n",
    "        if self.reduction=='sum': loss = -log_preds.sum()\n",
    "        else:\n",
    "            loss = -log_preds.sum(dim=-1)\n",
    "            if self.reduction=='mean':  loss = loss.mean()\n",
    "        return loss*self.eps/c + (1-self.eps) * F.nll_loss(log_preds, target, weight=self.weight, reduction=self.reduction)"
   ]
  },
  {
   "cell_type": "code",
   "execution_count": null,
   "metadata": {
    "executionInfo": {
     "elapsed": 6024,
     "status": "ok",
     "timestamp": 1601428064139,
     "user": {
      "displayName": "Antônio David",
      "photoUrl": "",
      "userId": "07452527623579301827"
     },
     "user_tz": 180
    },
    "id": "5z68MB6apY5c"
   },
   "outputs": [],
   "source": [
    "import warnings\n",
    "warnings.filterwarnings('ignore')  # \"error\", \"ignore\", \"always\", \"default\", \"module\" or \"on"
   ]
  },
  {
   "cell_type": "markdown",
   "metadata": {
    "id": "EZ5hODQRpY5e"
   },
   "source": [
    "## Data"
   ]
  },
  {
   "cell_type": "code",
   "execution_count": null,
   "metadata": {
    "colab": {
     "base_uri": "https://localhost:8080/",
     "height": 646
    },
    "executionInfo": {
     "elapsed": 7028,
     "status": "ok",
     "timestamp": 1601428065149,
     "user": {
      "displayName": "Antônio David",
      "photoUrl": "",
      "userId": "07452527623579301827"
     },
     "user_tz": 180
    },
    "id": "nTApXoTYpY5e",
    "outputId": "d78aa0b4-af90-4d76-cdd0-e46bae640f79",
    "scrolled": true
   },
   "outputs": [],
   "source": [
    "df = pd.read_pickle(path + '/df_processado.pkl')\n",
    "df.info()\n",
    "df2 = df[df['sent_manual'].fillna('nan').str.contains('N|E|S|C')].copy()\n",
    "\n",
    "def corrige_label(label):\n",
    "    if label == 'S' or label == 'E':\n",
    "        return('N')\n",
    "    else:\n",
    "        return(label)"
   ]
  },
  {
   "cell_type": "code",
   "execution_count": null,
   "metadata": {
    "colab": {
     "base_uri": "https://localhost:8080/",
     "height": 68
    },
    "executionInfo": {
     "elapsed": 7019,
     "status": "ok",
     "timestamp": 1601428065150,
     "user": {
      "displayName": "Antônio David",
      "photoUrl": "",
      "userId": "07452527623579301827"
     },
     "user_tz": 180
    },
    "id": "fETykPiNpY5g",
    "outputId": "642af244-7409-4d56-b557-12e591ea9e65",
    "scrolled": true
   },
   "outputs": [],
   "source": [
    "df2['sent_manual'] = df2['sent_manual'].apply(corrige_label)\n",
    "df2['sent_manual'].value_counts()\n",
    "lista_index = df2.index.values.copy()\n",
    "lista_texto = df2.tweet_limpo.to_list().copy()\n",
    "lista_label = df2.sent_manual.to_list().copy()\n",
    "\n",
    "#TRANSFORMA PARA CAIXA BAIXA\n",
    "corpus = lista_texto.copy()\n",
    "for i in range(0,len(corpus)):\n",
    "    corpus[i]=corpus[i].lower()\n",
    "\n",
    "\n",
    "#REMOVE NUMEROS E PONTUACAO\n",
    "for i in range(0,len(corpus)):\n",
    "    corpus[i] = re.sub('[0-9]+', '', corpus[i])\n",
    "    corpus[i] = re.sub(r'[^\\w\\s]','',corpus[i])\n",
    "    corpus[i] = re.sub('º','',corpus[i])\n",
    "\n",
    "# create a dataframe using texts and lables\n",
    "trainDF = pd.DataFrame()\n",
    "trainDF['text'] = corpus\n",
    "#trainDF['text'] = lista_texto\n",
    "trainDF['label'] = lista_label\n",
    "\n",
    "trainDF['label'].value_counts()\n",
    "\n",
    "    "
   ]
  },
  {
   "cell_type": "markdown",
   "metadata": {
    "id": "lNay4Qf6pY5i"
   },
   "source": [
    "## Fine-tuning \"forward LM\""
   ]
  },
  {
   "cell_type": "code",
   "execution_count": null,
   "metadata": {
    "colab": {
     "base_uri": "https://localhost:8080/",
     "height": 204
    },
    "executionInfo": {
     "elapsed": 7009,
     "status": "ok",
     "timestamp": 1601428065150,
     "user": {
      "displayName": "Antônio David",
      "photoUrl": "",
      "userId": "07452527623579301827"
     },
     "user_tz": 180
    },
    "id": "4uLMa7BdI1-s",
    "outputId": "26c53a0c-6905-492e-a51a-81342bc76a37"
   },
   "outputs": [],
   "source": [
    "trainDF.sample(5)"
   ]
  },
  {
   "cell_type": "code",
   "execution_count": null,
   "metadata": {
    "colab": {
     "base_uri": "https://localhost:8080/",
     "height": 35
    },
    "executionInfo": {
     "elapsed": 7000,
     "status": "ok",
     "timestamp": 1601428065151,
     "user": {
      "displayName": "Antônio David",
      "photoUrl": "",
      "userId": "07452527623579301827"
     },
     "user_tz": 180
    },
    "id": "6ij7YB8opY5j",
    "outputId": "2d0fc630-1b32-4a45-8ab3-6aa330abcfdf"
   },
   "outputs": [],
   "source": [
    "#dest = path/'corpus2_100'\n",
    "#(dest/'tmp').ls()\n",
    "dest = path + '/corpus2_100'\n",
    "dest\n"
   ]
  },
  {
   "cell_type": "markdown",
   "metadata": {
    "id": "dpbOQbmDpY5l"
   },
   "source": [
    "### Databunch"
   ]
  },
  {
   "cell_type": "code",
   "execution_count": null,
   "metadata": {
    "colab": {
     "base_uri": "https://localhost:8080/",
     "height": 51
    },
    "executionInfo": {
     "elapsed": 7496,
     "status": "ok",
     "timestamp": 1601428065658,
     "user": {
      "displayName": "Antônio David",
      "photoUrl": "",
      "userId": "07452527623579301827"
     },
     "user_tz": 180
    },
    "id": "Sz2L3-D_pY5l",
    "outputId": "a75debb1-68ce-471c-c404-31091d0fa1c4"
   },
   "outputs": [],
   "source": [
    "%%time\n",
    "data_lm = (TextList.from_df(trainDF, path, cols='text', processor=SPProcessor.load(dest)) # os arquivos smp tem que estar dentro de uma pasta chamada 'tmp' em dest\n",
    "    .split_by_rand_pct(0.2, seed=100)\n",
    "    .label_for_lm()           \n",
    "    .databunch(bs=bs, num_workers=1))"
   ]
  },
  {
   "cell_type": "code",
   "execution_count": null,
   "metadata": {
    "colab": {
     "base_uri": "https://localhost:8080/",
     "height": 139
    },
    "executionInfo": {
     "elapsed": 7486,
     "status": "ok",
     "timestamp": 1601428065658,
     "user": {
      "displayName": "Antônio David",
      "photoUrl": "",
      "userId": "07452527623579301827"
     },
     "user_tz": 180
    },
    "id": "ZLIKubrxgWCD",
    "outputId": "06ed2dc2-6736-4786-90e7-2b7e6d0053bf"
   },
   "outputs": [],
   "source": [
    "data_lm.train_ds"
   ]
  },
  {
   "cell_type": "code",
   "execution_count": null,
   "metadata": {
    "colab": {
     "base_uri": "https://localhost:8080/",
     "height": 139
    },
    "executionInfo": {
     "elapsed": 7477,
     "status": "ok",
     "timestamp": 1601428065659,
     "user": {
      "displayName": "Antônio David",
      "photoUrl": "",
      "userId": "07452527623579301827"
     },
     "user_tz": 180
    },
    "id": "VPMOGHC6fU0c",
    "outputId": "67345856-9785-4676-c789-cae89da3ad90"
   },
   "outputs": [],
   "source": [
    "data_lm.valid_ds"
   ]
  },
  {
   "cell_type": "code",
   "execution_count": null,
   "metadata": {
    "executionInfo": {
     "elapsed": 7460,
     "status": "ok",
     "timestamp": 1601428065659,
     "user": {
      "displayName": "Antônio David",
      "photoUrl": "",
      "userId": "07452527623579301827"
     },
     "user_tz": 180
    },
    "id": "rRhItnBfpY5o"
   },
   "outputs": [],
   "source": [
    "data_lm.save(f'{path}/{lang}_databunch_lm_tweets_bc_sp15_multifit_v2')"
   ]
  },
  {
   "cell_type": "markdown",
   "metadata": {
    "id": "RVknwaMFpY5q"
   },
   "source": [
    "### Training"
   ]
  },
  {
   "cell_type": "code",
   "execution_count": null,
   "metadata": {
    "executionInfo": {
     "elapsed": 7451,
     "status": "ok",
     "timestamp": 1601428065660,
     "user": {
      "displayName": "Antônio David",
      "photoUrl": "",
      "userId": "07452527623579301827"
     },
     "user_tz": 180
    },
    "id": "zybwb8-1pY5q"
   },
   "outputs": [],
   "source": [
    "data_lm = load_data(path, f'{lang}_databunch_lm_tweets_bc_sp15_multifit_v2', bs=bs)"
   ]
  },
  {
   "cell_type": "code",
   "execution_count": null,
   "metadata": {
    "executionInfo": {
     "elapsed": 7445,
     "status": "ok",
     "timestamp": 1601428065660,
     "user": {
      "displayName": "Antônio David",
      "photoUrl": "",
      "userId": "07452527623579301827"
     },
     "user_tz": 180
    },
    "id": "OFn7eI3LpY5s"
   },
   "outputs": [],
   "source": [
    "config = awd_lstm_lm_config.copy()\n",
    "config['qrnn'] = True\n",
    "config['n_hid'] = 1550 #default 1152\n",
    "config['n_layers'] = 4 #default 3"
   ]
  },
  {
   "cell_type": "code",
   "execution_count": null,
   "metadata": {
    "executionInfo": {
     "elapsed": 7440,
     "status": "ok",
     "timestamp": 1601428065661,
     "user": {
      "displayName": "Antônio David",
      "photoUrl": "",
      "userId": "07452527623579301827"
     },
     "user_tz": 180
    },
    "id": "hOkLhZJkpY5t"
   },
   "outputs": [],
   "source": [
    "perplexity = Perplexity()"
   ]
  },
  {
   "cell_type": "code",
   "execution_count": null,
   "metadata": {
    "colab": {
     "base_uri": "https://localhost:8080/",
     "height": 51
    },
    "executionInfo": {
     "elapsed": 61177,
     "status": "ok",
     "timestamp": 1601428119406,
     "user": {
      "displayName": "Antônio David",
      "photoUrl": "",
      "userId": "07452527623579301827"
     },
     "user_tz": 180
    },
    "id": "XDfI4tB9pY5v",
    "outputId": "3dca1219-d6ba-47dd-e4fc-7fb9f387455f"
   },
   "outputs": [],
   "source": [
    "%%time\n",
    "learn_lm = language_model_learner(data_lm, AWD_LSTM, config=config, pretrained_fnames=lm_fns3, drop_mult=1., \n",
    "                                  metrics=[error_rate, accuracy, perplexity])#.to_fp16() #RuntimeError: \"bernoulli_scalar_cpu_\" not implemented for 'Half' se usar to_fp16()\n"
   ]
  },
  {
   "cell_type": "code",
   "execution_count": null,
   "metadata": {
    "executionInfo": {
     "elapsed": 61172,
     "status": "ok",
     "timestamp": 1601428119406,
     "user": {
      "displayName": "Antônio David",
      "photoUrl": "",
      "userId": "07452527623579301827"
     },
     "user_tz": 180
    },
    "id": "Rca8n9iOpY5x"
   },
   "outputs": [],
   "source": [
    "#learn_lm.model"
   ]
  },
  {
   "cell_type": "code",
   "execution_count": null,
   "metadata": {
    "executionInfo": {
     "elapsed": 61167,
     "status": "ok",
     "timestamp": 1601428119407,
     "user": {
      "displayName": "Antônio David",
      "photoUrl": "",
      "userId": "07452527623579301827"
     },
     "user_tz": 180
    },
    "id": "GnHKBq3NKRjK"
   },
   "outputs": [],
   "source": [
    "# number of model parameters\n",
    "#sum([p.numel() for p in learn_lm.model.parameters()])"
   ]
  },
  {
   "cell_type": "markdown",
   "metadata": {
    "id": "x1eN-SB1pY5z"
   },
   "source": [
    "#### Change loss function"
   ]
  },
  {
   "cell_type": "code",
   "execution_count": null,
   "metadata": {
    "colab": {
     "base_uri": "https://localhost:8080/",
     "height": 34
    },
    "executionInfo": {
     "elapsed": 61161,
     "status": "ok",
     "timestamp": 1601428119407,
     "user": {
      "displayName": "Antônio David",
      "photoUrl": "",
      "userId": "07452527623579301827"
     },
     "user_tz": 180
    },
    "id": "q3UHCqt4pY5z",
    "outputId": "009cce5b-c64c-4f3a-f5d2-d046a10827d3"
   },
   "outputs": [],
   "source": [
    "learn_lm.loss_func"
   ]
  },
  {
   "cell_type": "code",
   "execution_count": null,
   "metadata": {
    "executionInfo": {
     "elapsed": 61156,
     "status": "ok",
     "timestamp": 1601428119408,
     "user": {
      "displayName": "Antônio David",
      "photoUrl": "",
      "userId": "07452527623579301827"
     },
     "user_tz": 180
    },
    "id": "aJwy8waHpY51"
   },
   "outputs": [],
   "source": [
    "learn_lm.loss_func = FlattenedLoss(LabelSmoothingCrossEntropy)"
   ]
  },
  {
   "cell_type": "code",
   "execution_count": null,
   "metadata": {
    "colab": {
     "base_uri": "https://localhost:8080/",
     "height": 34
    },
    "executionInfo": {
     "elapsed": 61152,
     "status": "ok",
     "timestamp": 1601428119410,
     "user": {
      "displayName": "Antônio David",
      "photoUrl": "",
      "userId": "07452527623579301827"
     },
     "user_tz": 180
    },
    "id": "_H_qsyWlpY53",
    "outputId": "e90d1f72-1f8a-4f75-be3e-863a5ac7e20b"
   },
   "outputs": [],
   "source": [
    "learn_lm.loss_func"
   ]
  },
  {
   "cell_type": "markdown",
   "metadata": {
    "id": "Un0GEXXBpY54"
   },
   "source": [
    "#### Training"
   ]
  },
  {
   "cell_type": "code",
   "execution_count": null,
   "metadata": {
    "colab": {
     "base_uri": "https://localhost:8080/",
     "height": 112
    },
    "executionInfo": {
     "elapsed": 71862,
     "status": "ok",
     "timestamp": 1601428130126,
     "user": {
      "displayName": "Antônio David",
      "photoUrl": "",
      "userId": "07452527623579301827"
     },
     "user_tz": 180
    },
    "id": "NCrFvvq9pY55",
    "outputId": "28e4ca1b-4699-47c3-a5f3-de867b37125b"
   },
   "outputs": [],
   "source": [
    "learn_lm.lr_find()"
   ]
  },
  {
   "cell_type": "code",
   "execution_count": null,
   "metadata": {
    "colab": {
     "base_uri": "https://localhost:8080/",
     "height": 279
    },
    "executionInfo": {
     "elapsed": 72516,
     "status": "ok",
     "timestamp": 1601428130785,
     "user": {
      "displayName": "Antônio David",
      "photoUrl": "",
      "userId": "07452527623579301827"
     },
     "user_tz": 180
    },
    "id": "lsZCag1NpY57",
    "outputId": "cf0ff929-c78f-447e-b7b7-9f6753e317bc"
   },
   "outputs": [],
   "source": [
    "learn_lm.recorder.plot()"
   ]
  },
  {
   "cell_type": "code",
   "execution_count": null,
   "metadata": {
    "executionInfo": {
     "elapsed": 72511,
     "status": "ok",
     "timestamp": 1601428130786,
     "user": {
      "displayName": "Antônio David",
      "photoUrl": "",
      "userId": "07452527623579301827"
     },
     "user_tz": 180
    },
    "id": "G7aAUz6DpY5-"
   },
   "outputs": [],
   "source": [
    "lr = 2e-2\n",
    "lr *= bs/48\n",
    "\n",
    "wd = 0.1"
   ]
  },
  {
   "cell_type": "code",
   "execution_count": null,
   "metadata": {
    "colab": {
     "base_uri": "https://localhost:8080/",
     "height": 111
    },
    "executionInfo": {
     "elapsed": 89933,
     "status": "ok",
     "timestamp": 1601428148215,
     "user": {
      "displayName": "Antônio David",
      "photoUrl": "",
      "userId": "07452527623579301827"
     },
     "user_tz": 180
    },
    "id": "O_plvRkgpY6B",
    "outputId": "6bffa9c1-c724-4f3a-e76b-41feaf96bcac"
   },
   "outputs": [],
   "source": [
    "learn_lm.fit_one_cycle(2, lr*10, wd=wd, moms=(0.8,0.7))"
   ]
  },
  {
   "cell_type": "code",
   "execution_count": null,
   "metadata": {
    "executionInfo": {
     "elapsed": 100528,
     "status": "ok",
     "timestamp": 1601428158815,
     "user": {
      "displayName": "Antônio David",
      "photoUrl": "",
      "userId": "07452527623579301827"
     },
     "user_tz": 180
    },
    "id": "BhHqKk4dpY6D"
   },
   "outputs": [],
   "source": [
    "learn_lm.save(f'{lang}fine_tuned1_tweets_bc_sp15_multifit_v2')\n",
    "learn_lm.save_encoder(f'{lang}fine_tuned1_enc_tweets_bc_sp15_multifit_v2')"
   ]
  },
  {
   "cell_type": "code",
   "execution_count": null,
   "metadata": {
    "colab": {
     "base_uri": "https://localhost:8080/",
     "height": 607
    },
    "executionInfo": {
     "elapsed": 229159,
     "status": "ok",
     "timestamp": 1601428287451,
     "user": {
      "displayName": "Antônio David",
      "photoUrl": "",
      "userId": "07452527623579301827"
     },
     "user_tz": 180
    },
    "id": "TH-9psaBpY6E",
    "outputId": "4d822b4b-0ffb-49b4-86ab-7f3fb3117c46"
   },
   "outputs": [],
   "source": [
    "learn_lm.unfreeze()\n",
    "#learn_lm.fit_one_cycle(18, lr, wd=wd, moms=(0.8,0.7), callbacks=[ShowGraph(learn_lm)]) \n",
    "learn_lm.fit_one_cycle(10, lr, wd=wd, moms=(0.8,0.7), callbacks=[ShowGraph(learn_lm)]) \n",
    "#learn_lm.fit_one_cycle(18, lr, wd=wd, moms=(0.8,0.7))"
   ]
  },
  {
   "cell_type": "code",
   "execution_count": null,
   "metadata": {
    "executionInfo": {
     "elapsed": 244037,
     "status": "ok",
     "timestamp": 1601428302336,
     "user": {
      "displayName": "Antônio David",
      "photoUrl": "",
      "userId": "07452527623579301827"
     },
     "user_tz": 180
    },
    "id": "aq8zZBbmpY6G"
   },
   "outputs": [],
   "source": [
    "learn_lm.save(f'{lang}fine_tuned2_lenerbr_sp15_multifit_v2')\n",
    "learn_lm.save_encoder(f'{lang}fine_tuned2_enc_lenerbr_sp15_multifit_v2')"
   ]
  },
  {
   "cell_type": "code",
   "execution_count": null,
   "metadata": {
    "executionInfo": {
     "elapsed": 244034,
     "status": "ok",
     "timestamp": 1601428302338,
     "user": {
      "displayName": "Antônio David",
      "photoUrl": "",
      "userId": "07452527623579301827"
     },
     "user_tz": 180
    },
    "id": "HXqoG59nGz7u"
   },
   "outputs": [],
   "source": [
    "#learn_lm.load(f'{lang}fine_tuned2_lenerbr_sp15_multifit_v2');"
   ]
  },
  {
   "cell_type": "markdown",
   "metadata": {
    "id": "VVJLkkbonfHf"
   },
   "source": [
    "epoch\ttrain_loss\tvalid_loss\terror_rate\taccuracy\tperplexity\ttime <br>\n",
    "0\t4.026235\t4.850301\t0.656977\t0.343023\t56.712563\t00:19 <br>\n",
    "1\t4.007512\t4.827883\t0.653260\t0.346740\t55.668045\t00:19 <br>\n",
    "2\t4.040335\t4.828910\t0.655378\t0.344622\t56.004532\t00:19 <br>\n",
    "3\t4.103630\t4.861111\t0.657413\t0.342587\t57.734848\t00:19 <br>\n",
    "4\t4.121545\t4.874278\t0.658659\t0.341341\t58.080311\t00:19 <br>\n",
    "5\t4.085582\t4.857046\t0.657786\t0.342213\t57.604557\t00:19 <br>\n",
    "6\t4.024629\t4.895518\t0.659178\t0.340822\t59.595253\t00:19 <br>\n",
    "7\t3.918815\t4.880876\t0.652595\t0.347405\t58.826031\t00:19 <br>\n",
    "8\t3.836871\t4.919249\t0.653364\t0.346636\t61.336811\t00:19 <br>\n",
    "9\t3.691151\t4.924926\t0.649813\t0.350187\t61.226910\t00:19 <br>\n",
    "10\t3.573541\t4.957286\t0.648422\t0.351578\t63.443111\t00:19 <br>\n",
    "11\t3.403976\t4.980371\t0.646968\t0.353032\t64.674278\t00:19 <br>\n",
    "12\t3.242382\t4.987718\t0.646823\t0.353177\t65.596115\t00:19 <br>\n",
    "13\t3.114132\t5.038701\t0.645204\t0.354797\t68.497879\t00:19 <br>\n",
    "14\t2.989200\t5.055654\t0.644705\t0.355295\t70.223915\t00:19 <br>\n",
    "15\t2.921864\t5.071135\t0.644622\t0.355378\t71.220886\t00:19 <br>\n",
    "16\t2.854782\t5.077914\t0.644913\t0.355087\t71.853859\t00:19 <br>\n",
    "17\t2.835677\t5.080024\t0.644871\t0.355129\t71.992210\t00:19 <br>"
   ]
  },
  {
   "cell_type": "code",
   "execution_count": null,
   "metadata": {
    "executionInfo": {
     "elapsed": 244029,
     "status": "ok",
     "timestamp": 1601428302339,
     "user": {
      "displayName": "Antônio David",
      "photoUrl": "",
      "userId": "07452527623579301827"
     },
     "user_tz": 180
    },
    "id": "ySs2v5qLHvyc"
   },
   "outputs": [],
   "source": [
    "#learn_lm.unfreeze()\n",
    "#learn_lm.fit_one_cycle(18, lr, wd=wd, moms=(0.8,0.7), callbacks=[ShowGraph(learn_lm)]) #ShowGraph gera ImportError: cannot import name '_png'"
   ]
  },
  {
   "cell_type": "markdown",
   "metadata": {
    "id": "2bYf0W9GpY6I"
   },
   "source": [
    "Save best LM learner and its encoder"
   ]
  },
  {
   "cell_type": "code",
   "execution_count": null,
   "metadata": {
    "executionInfo": {
     "elapsed": 248296,
     "status": "ok",
     "timestamp": 1601428306612,
     "user": {
      "displayName": "Antônio David",
      "photoUrl": "",
      "userId": "07452527623579301827"
     },
     "user_tz": 180
    },
    "id": "7N7WXt65pY6J"
   },
   "outputs": [],
   "source": [
    "learn_lm.save(f'{lang}fine_tuned_tweets_bc_sp15_multifit_v2')\n",
    "learn_lm.save_encoder(f'{lang}fine_tuned_enc_tweets_bc_sp15_multifit_v2')"
   ]
  },
  {
   "cell_type": "markdown",
   "metadata": {
    "id": "WsLhewRYpY6K"
   },
   "source": [
    "## Fine-tuning \"backward LM\""
   ]
  },
  {
   "cell_type": "markdown",
   "metadata": {
    "id": "_PDWpWu4pY6K"
   },
   "source": [
    "### Databunch"
   ]
  },
  {
   "cell_type": "code",
   "execution_count": null,
   "metadata": {
    "colab": {
     "base_uri": "https://localhost:8080/",
     "height": 51
    },
    "executionInfo": {
     "elapsed": 248701,
     "status": "ok",
     "timestamp": 1601428307023,
     "user": {
      "displayName": "Antônio David",
      "photoUrl": "",
      "userId": "07452527623579301827"
     },
     "user_tz": 180
    },
    "id": "6ftlTBOYpY6L",
    "outputId": "3900c681-5962-48c9-c371-402222debbad"
   },
   "outputs": [],
   "source": [
    "%%time\n",
    "data_lm = (TextList.from_df(trainDF, path, cols='text', processor=SPProcessor.load(dest))\n",
    "    .split_by_rand_pct(0.2, seed=100)\n",
    "    .label_for_lm()           \n",
    "    .databunch(bs=bs, num_workers=1, backwards=True))"
   ]
  },
  {
   "cell_type": "code",
   "execution_count": null,
   "metadata": {
    "executionInfo": {
     "elapsed": 251557,
     "status": "ok",
     "timestamp": 1601428309885,
     "user": {
      "displayName": "Antônio David",
      "photoUrl": "",
      "userId": "07452527623579301827"
     },
     "user_tz": 180
    },
    "id": "83gnO3VqpY6M"
   },
   "outputs": [],
   "source": [
    "data_lm.save(f'{path}/{lang}_databunch_lm_tweets_bc_sp15_multifit_bwd_v2')"
   ]
  },
  {
   "cell_type": "markdown",
   "metadata": {
    "id": "5kARfYZBpY6O"
   },
   "source": [
    "### Training"
   ]
  },
  {
   "cell_type": "code",
   "execution_count": null,
   "metadata": {
    "colab": {
     "base_uri": "https://localhost:8080/",
     "height": 51
    },
    "executionInfo": {
     "elapsed": 251553,
     "status": "ok",
     "timestamp": 1601428309887,
     "user": {
      "displayName": "Antônio David",
      "photoUrl": "",
      "userId": "07452527623579301827"
     },
     "user_tz": 180
    },
    "id": "sNRfwGn1pY6O",
    "outputId": "c5d1226a-7c1a-4f39-c81f-2f383fda06b0"
   },
   "outputs": [],
   "source": [
    "%%time\n",
    "data_lm = load_data(path, f'{lang}_databunch_lm_tweets_bc_sp15_multifit_bwd_v2', bs=bs, backwards=True)"
   ]
  },
  {
   "cell_type": "code",
   "execution_count": null,
   "metadata": {
    "executionInfo": {
     "elapsed": 251548,
     "status": "ok",
     "timestamp": 1601428309887,
     "user": {
      "displayName": "Antônio David",
      "photoUrl": "",
      "userId": "07452527623579301827"
     },
     "user_tz": 180
    },
    "id": "Iji3TOZgpY6Q"
   },
   "outputs": [],
   "source": [
    "config = awd_lstm_lm_config.copy()\n",
    "config['qrnn'] = True\n",
    "config['n_hid'] = 1550 #default 1152\n",
    "config['n_layers'] = 4 #default 3"
   ]
  },
  {
   "cell_type": "code",
   "execution_count": null,
   "metadata": {
    "colab": {
     "base_uri": "https://localhost:8080/",
     "height": 51
    },
    "executionInfo": {
     "elapsed": 257449,
     "status": "ok",
     "timestamp": 1601428315794,
     "user": {
      "displayName": "Antônio David",
      "photoUrl": "",
      "userId": "07452527623579301827"
     },
     "user_tz": 180
    },
    "id": "1jLor-yZpY6S",
    "outputId": "4d571405-66b8-4880-bb73-49162bfcee44"
   },
   "outputs": [],
   "source": [
    "%%time\n",
    "perplexity = Perplexity()\n",
    "learn_lm = language_model_learner(data_lm, AWD_LSTM, config=config, pretrained_fnames=lm_fns3_bwd, drop_mult=1., \n",
    "                                  metrics=[error_rate, accuracy, perplexity])#.to_fp16()"
   ]
  },
  {
   "cell_type": "markdown",
   "metadata": {
    "id": "bx6J5aC2pY6U"
   },
   "source": [
    "#### Change loss function"
   ]
  },
  {
   "cell_type": "code",
   "execution_count": null,
   "metadata": {
    "colab": {
     "base_uri": "https://localhost:8080/",
     "height": 34
    },
    "executionInfo": {
     "elapsed": 257444,
     "status": "ok",
     "timestamp": 1601428315795,
     "user": {
      "displayName": "Antônio David",
      "photoUrl": "",
      "userId": "07452527623579301827"
     },
     "user_tz": 180
    },
    "id": "fvlSO66lpY6U",
    "outputId": "ab3fc9cc-ae85-4e67-960c-56d3a1e78cd7"
   },
   "outputs": [],
   "source": [
    "learn_lm.loss_func"
   ]
  },
  {
   "cell_type": "code",
   "execution_count": null,
   "metadata": {
    "executionInfo": {
     "elapsed": 257437,
     "status": "ok",
     "timestamp": 1601428315795,
     "user": {
      "displayName": "Antônio David",
      "photoUrl": "",
      "userId": "07452527623579301827"
     },
     "user_tz": 180
    },
    "id": "xK6-ZRi2pY6W"
   },
   "outputs": [],
   "source": [
    "learn_lm.loss_func = FlattenedLoss(LabelSmoothingCrossEntropy)"
   ]
  },
  {
   "cell_type": "code",
   "execution_count": null,
   "metadata": {
    "colab": {
     "base_uri": "https://localhost:8080/",
     "height": 34
    },
    "executionInfo": {
     "elapsed": 257432,
     "status": "ok",
     "timestamp": 1601428315796,
     "user": {
      "displayName": "Antônio David",
      "photoUrl": "",
      "userId": "07452527623579301827"
     },
     "user_tz": 180
    },
    "id": "e2P0vyQ3pY6X",
    "outputId": "f9026c47-5d54-4959-bdcc-32d4587303f5"
   },
   "outputs": [],
   "source": [
    "learn_lm.loss_func"
   ]
  },
  {
   "cell_type": "markdown",
   "metadata": {
    "id": "FACF-Hi1pY6a"
   },
   "source": [
    "#### Training"
   ]
  },
  {
   "cell_type": "code",
   "execution_count": null,
   "metadata": {
    "colab": {
     "base_uri": "https://localhost:8080/",
     "height": 112
    },
    "executionInfo": {
     "elapsed": 264972,
     "status": "ok",
     "timestamp": 1601428323342,
     "user": {
      "displayName": "Antônio David",
      "photoUrl": "",
      "userId": "07452527623579301827"
     },
     "user_tz": 180
    },
    "id": "JnMHAIglpY6b",
    "outputId": "2e6af9f4-8a40-4986-e4c3-8cf644fa4108"
   },
   "outputs": [],
   "source": [
    "learn_lm.lr_find()"
   ]
  },
  {
   "cell_type": "code",
   "execution_count": null,
   "metadata": {
    "colab": {
     "base_uri": "https://localhost:8080/",
     "height": 279
    },
    "executionInfo": {
     "elapsed": 264967,
     "status": "ok",
     "timestamp": 1601428323343,
     "user": {
      "displayName": "Antônio David",
      "photoUrl": "",
      "userId": "07452527623579301827"
     },
     "user_tz": 180
    },
    "id": "gRiH_KtnpY6d",
    "outputId": "1b564a31-137e-4614-82e2-f7acf3e3f06f"
   },
   "outputs": [],
   "source": [
    "learn_lm.recorder.plot()"
   ]
  },
  {
   "cell_type": "code",
   "execution_count": null,
   "metadata": {
    "executionInfo": {
     "elapsed": 264960,
     "status": "ok",
     "timestamp": 1601428323344,
     "user": {
      "displayName": "Antônio David",
      "photoUrl": "",
      "userId": "07452527623579301827"
     },
     "user_tz": 180
    },
    "id": "iZPWKhb8pY6f"
   },
   "outputs": [],
   "source": [
    "lr = 2e-2\n",
    "lr *= bs/48\n",
    "\n",
    "wd = 0.1"
   ]
  },
  {
   "cell_type": "code",
   "execution_count": null,
   "metadata": {
    "colab": {
     "base_uri": "https://localhost:8080/",
     "height": 111
    },
    "executionInfo": {
     "elapsed": 283672,
     "status": "ok",
     "timestamp": 1601428342061,
     "user": {
      "displayName": "Antônio David",
      "photoUrl": "",
      "userId": "07452527623579301827"
     },
     "user_tz": 180
    },
    "id": "D9MgOSI_pY6h",
    "outputId": "b02c198f-0dd5-40b1-a635-57c82c41506a"
   },
   "outputs": [],
   "source": [
    "learn_lm.fit_one_cycle(2, lr*10, wd=wd, moms=(0.8,0.7))"
   ]
  },
  {
   "cell_type": "code",
   "execution_count": null,
   "metadata": {
    "executionInfo": {
     "elapsed": 294147,
     "status": "ok",
     "timestamp": 1601428352542,
     "user": {
      "displayName": "Antônio David",
      "photoUrl": "",
      "userId": "07452527623579301827"
     },
     "user_tz": 180
    },
    "id": "AwOEqvUQpY6j"
   },
   "outputs": [],
   "source": [
    "learn_lm.save(f'{lang}fine_tuned1_tweets_bc_sp15_multifit_bwd_v2')\n",
    "learn_lm.save_encoder(f'{lang}fine_tuned1_enc_tweets_bc_sp15_multifit_bwd_v2')"
   ]
  },
  {
   "cell_type": "markdown",
   "metadata": {
    "id": "IXNyKalMnTro"
   },
   "source": [
    "epoch\ttrain_loss\tvalid_loss\terror_rate\taccuracy\tperplexity\ttime  <br>\n",
    "0\t6.302666\t6.044674\t0.826155\t0.173845\t221.182205\t00:21 <br>\n",
    "1\t6.046424\t5.839687\t0.799895\t0.200105\t177.380646\t00:21 <br>\n",
    "2\t5.769688\t5.541620\t0.755515\t0.244485\t128.012085\t00:21 <br>\n",
    "3\t5.479696\t5.314439\t0.725683\t0.274317\t97.298874\t00:21 <br>\n",
    "4\t5.247477\t5.137167\t0.701471\t0.298529\t80.597542\t00:21 <br>\n",
    "5\t5.024149\t5.031209\t0.680777\t0.319223\t70.631744\t00:21 <br>\n",
    "6\t4.859836\t4.965009\t0.674632\t0.325368\t65.067368\t00:21 <br>\n",
    "7\t4.721925\t4.890521\t0.664653\t0.335347\t61.066811\t00:21 <br>\n",
    "8\t4.551728\t4.858989\t0.659611\t0.340389\t58.249828\t00:21 <br>\n",
    "9\t4.462481\t4.832177\t0.650945\t0.349055\t56.585121\t00:21 <br>\n",
    "10\t4.295513\t4.806365\t0.644538\t0.355462\t54.819786\t00:21 <br>\n",
    "11\t4.177893\t4.800797\t0.639968\t0.360032\t54.325031\t00:21 <br>\n",
    "12\t4.050987\t4.800620\t0.638130\t0.361870\t53.666927\t00:21 <br>\n",
    "13\t3.878635\t4.797090\t0.633298\t0.366702\t53.689964\t00:21 <br>\n",
    "14\t3.804556\t4.794771\t0.630672\t0.369328\t53.636059\t00:21 <br>\n",
    "15\t3.691840\t4.814564\t0.631092\t0.368908\t54.688404\t00:21 <br>\n",
    "16\t3.636143\t4.826870\t0.631302\t0.368697\t55.196342\t00:21 <br>\n",
    "17\t3.620973\t4.828074\t0.630935\t0.369065\t55.224644\t00:21 <br>"
   ]
  },
  {
   "cell_type": "code",
   "execution_count": null,
   "metadata": {
    "colab": {
     "base_uri": "https://localhost:8080/",
     "height": 855
    },
    "executionInfo": {
     "elapsed": 533670,
     "status": "ok",
     "timestamp": 1601428592071,
     "user": {
      "displayName": "Antônio David",
      "photoUrl": "",
      "userId": "07452527623579301827"
     },
     "user_tz": 180
    },
    "id": "-v6zkK6IpY6l",
    "outputId": "067ee520-a58a-4e73-a4f2-446bcb25b8bd"
   },
   "outputs": [],
   "source": [
    "learn_lm.unfreeze()\n",
    "learn_lm.fit_one_cycle(18, lr, wd=wd, moms=(0.8,0.7), callbacks=[ShowGraph(learn_lm)])"
   ]
  },
  {
   "cell_type": "code",
   "execution_count": null,
   "metadata": {
    "executionInfo": {
     "elapsed": 548293,
     "status": "ok",
     "timestamp": 1601428606699,
     "user": {
      "displayName": "Antônio David",
      "photoUrl": "",
      "userId": "07452527623579301827"
     },
     "user_tz": 180
    },
    "id": "1ZPdGt7wpY6n"
   },
   "outputs": [],
   "source": [
    "learn_lm.save(f'{lang}fine_tuned2_tweets_bc_sp15_multifit_bwd_v2')\n",
    "learn_lm.save_encoder(f'{lang}fine_tuned2_enc_tweets_bc_sp15_multifit_bwd_v2')"
   ]
  },
  {
   "cell_type": "markdown",
   "metadata": {
    "id": "AR5CMtwkpY6o"
   },
   "source": [
    "Save best LM learner and its encoder"
   ]
  },
  {
   "cell_type": "code",
   "execution_count": null,
   "metadata": {
    "executionInfo": {
     "elapsed": 556062,
     "status": "ok",
     "timestamp": 1601428614474,
     "user": {
      "displayName": "Antônio David",
      "photoUrl": "",
      "userId": "07452527623579301827"
     },
     "user_tz": 180
    },
    "id": "6nGkemrdpY6p"
   },
   "outputs": [],
   "source": [
    "learn_lm.save(f'{lang}fine_tuned_tweets_bc_sp15_multifit_bwd_v2')\n",
    "learn_lm.save_encoder(f'{lang}fine_tuned_enc_tweets_bc_sp15_multifit_bwd_v2')"
   ]
  },
  {
   "cell_type": "markdown",
   "metadata": {
    "id": "5Ck3ZNcMpY6q"
   },
   "source": [
    "## Fine-tuning \"forward Classifier\""
   ]
  },
  {
   "cell_type": "code",
   "execution_count": null,
   "metadata": {
    "executionInfo": {
     "elapsed": 556056,
     "status": "ok",
     "timestamp": 1601428614474,
     "user": {
      "displayName": "Antônio David",
      "photoUrl": "",
      "userId": "07452527623579301827"
     },
     "user_tz": 180
    },
    "id": "np6ydQbmpY6q"
   },
   "outputs": [],
   "source": [
    "bs = 18"
   ]
  },
  {
   "cell_type": "markdown",
   "metadata": {
    "id": "hkYMoyANpY6s"
   },
   "source": [
    "### Databunch"
   ]
  },
  {
   "cell_type": "code",
   "execution_count": null,
   "metadata": {
    "colab": {
     "base_uri": "https://localhost:8080/",
     "height": 51
    },
    "executionInfo": {
     "elapsed": 556052,
     "status": "ok",
     "timestamp": 1601428614475,
     "user": {
      "displayName": "Antônio David",
      "photoUrl": "",
      "userId": "07452527623579301827"
     },
     "user_tz": 180
    },
    "id": "mX5pFGV9pY6s",
    "outputId": "ad4ca604-1807-49c8-c281-ec2a0bf31933"
   },
   "outputs": [],
   "source": [
    "%%time\n",
    "data_lm = load_data(path, f'{lang}_databunch_lm_tweets_bc_sp15_multifit_v2', bs=bs)"
   ]
  },
  {
   "cell_type": "code",
   "execution_count": null,
   "metadata": {
    "colab": {
     "base_uri": "https://localhost:8080/",
     "height": 51
    },
    "executionInfo": {
     "elapsed": 556600,
     "status": "ok",
     "timestamp": 1601428615029,
     "user": {
      "displayName": "Antônio David",
      "photoUrl": "",
      "userId": "07452527623579301827"
     },
     "user_tz": 180
    },
    "id": "qSqQOBmVpY6u",
    "outputId": "d22489c2-0551-47f6-ba38-8d14568089ca"
   },
   "outputs": [],
   "source": [
    "%%time\n",
    "data_clas = (TextList.from_df(trainDF, path, vocab=data_lm.vocab, cols='text', processor=SPProcessor.load(dest))\n",
    "    .split_by_rand_pct(0.2, seed=100)\n",
    "    .label_from_df(cols='label')\n",
    "    .databunch(bs=bs, num_workers=1))"
   ]
  },
  {
   "cell_type": "code",
   "execution_count": null,
   "metadata": {
    "colab": {
     "base_uri": "https://localhost:8080/",
     "height": 51
    },
    "executionInfo": {
     "elapsed": 559018,
     "status": "ok",
     "timestamp": 1601428617451,
     "user": {
      "displayName": "Antônio David",
      "photoUrl": "",
      "userId": "07452527623579301827"
     },
     "user_tz": 180
    },
    "id": "bi1IsGkKpY6w",
    "outputId": "83b3f447-4e1c-4c4c-a350-83bc86ec4c01"
   },
   "outputs": [],
   "source": [
    "%%time\n",
    "data_clas.save(f'{lang}_textlist_class_tweets_bc_sp15_multifit_v2')"
   ]
  },
  {
   "cell_type": "markdown",
   "metadata": {
    "id": "EvV6Yz9-pY6x"
   },
   "source": [
    "### Get weights to penalize loss function of the majority class"
   ]
  },
  {
   "cell_type": "code",
   "execution_count": null,
   "metadata": {
    "colab": {
     "base_uri": "https://localhost:8080/",
     "height": 51
    },
    "executionInfo": {
     "elapsed": 559012,
     "status": "ok",
     "timestamp": 1601428617452,
     "user": {
      "displayName": "Antônio David",
      "photoUrl": "",
      "userId": "07452527623579301827"
     },
     "user_tz": 180
    },
    "id": "HvawPkSrpY6y",
    "outputId": "ec595d39-67dc-4000-f52b-f2f8658c9f16"
   },
   "outputs": [],
   "source": [
    "%%time\n",
    "data_clas = load_data(path, f'{lang}_textlist_class_tweets_bc_sp15_multifit_v2', bs=bs, num_workers=1)"
   ]
  },
  {
   "cell_type": "code",
   "execution_count": null,
   "metadata": {
    "colab": {
     "base_uri": "https://localhost:8080/",
     "height": 34
    },
    "executionInfo": {
     "elapsed": 559007,
     "status": "ok",
     "timestamp": 1601428617453,
     "user": {
      "displayName": "Antônio David",
      "photoUrl": "",
      "userId": "07452527623579301827"
     },
     "user_tz": 180
    },
    "id": "LN2KO1RkpY61",
    "outputId": "85dfc3ad-11b6-4d47-ae27-6674df1787ff"
   },
   "outputs": [],
   "source": [
    "num_trn = len(data_clas.train_ds.x)\n",
    "num_val = len(data_clas.valid_ds.x)\n",
    "num_trn, num_val, num_trn+num_val"
   ]
  },
  {
   "cell_type": "code",
   "execution_count": null,
   "metadata": {
    "colab": {
     "base_uri": "https://localhost:8080/",
     "height": 34
    },
    "executionInfo": {
     "elapsed": 559001,
     "status": "ok",
     "timestamp": 1601428617453,
     "user": {
      "displayName": "Antônio David",
      "photoUrl": "",
      "userId": "07452527623579301827"
     },
     "user_tz": 180
    },
    "id": "8ovBx5NYpY63",
    "outputId": "657487a1-fa00-4ef2-9cd7-19dbd691c2c4"
   },
   "outputs": [],
   "source": [
    "trn_LabelCounts = np.unique(data_clas.train_ds.y.items, return_counts=True)[1]\n",
    "val_LabelCounts = np.unique(data_clas.valid_ds.y.items, return_counts=True)[1]\n",
    "trn_LabelCounts, val_LabelCounts"
   ]
  },
  {
   "cell_type": "code",
   "execution_count": null,
   "metadata": {
    "colab": {
     "base_uri": "https://localhost:8080/",
     "height": 51
    },
    "executionInfo": {
     "elapsed": 558996,
     "status": "ok",
     "timestamp": 1601428617454,
     "user": {
      "displayName": "Antônio David",
      "photoUrl": "",
      "userId": "07452527623579301827"
     },
     "user_tz": 180
    },
    "id": "Zm3DM-dZpY65",
    "outputId": "9ec3804a-a511-46f5-f266-0f84ffc12722"
   },
   "outputs": [],
   "source": [
    "trn_weights = [1 - count/num_trn for count in trn_LabelCounts]\n",
    "val_weights = [1 - count/num_val for count in val_LabelCounts]\n",
    "trn_weights, val_weights"
   ]
  },
  {
   "cell_type": "markdown",
   "metadata": {
    "id": "3vqGDMLLpY67"
   },
   "source": [
    "### Training (Loss = FlattenedLoss of weighted LabelSmoothingCrossEntropy)"
   ]
  },
  {
   "cell_type": "code",
   "execution_count": null,
   "metadata": {
    "colab": {
     "base_uri": "https://localhost:8080/",
     "height": 51
    },
    "executionInfo": {
     "elapsed": 559692,
     "status": "ok",
     "timestamp": 1601428618156,
     "user": {
      "displayName": "Antônio David",
      "photoUrl": "",
      "userId": "07452527623579301827"
     },
     "user_tz": 180
    },
    "id": "y_v8iU14pY67",
    "outputId": "62828108-ef3f-48fe-b311-3fce58490c08"
   },
   "outputs": [],
   "source": [
    "%%time\n",
    "data_clas = load_data(path, f'{lang}_textlist_class_tweets_bc_sp15_multifit_v2', bs=bs, num_workers=1)"
   ]
  },
  {
   "cell_type": "code",
   "execution_count": null,
   "metadata": {
    "executionInfo": {
     "elapsed": 559687,
     "status": "ok",
     "timestamp": 1601428618156,
     "user": {
      "displayName": "Antônio David",
      "photoUrl": "",
      "userId": "07452527623579301827"
     },
     "user_tz": 180
    },
    "id": "n3oQsGCypY68"
   },
   "outputs": [],
   "source": [
    "config = awd_lstm_clas_config.copy()\n",
    "config['qrnn'] = True\n",
    "config['n_hid'] = 1550 #default 1152\n",
    "config['n_layers'] = 4 #default 3"
   ]
  },
  {
   "cell_type": "code",
   "execution_count": null,
   "metadata": {
    "executionInfo": {
     "elapsed": 559682,
     "status": "ok",
     "timestamp": 1601428618157,
     "user": {
      "displayName": "Antônio David",
      "photoUrl": "",
      "userId": "07452527623579301827"
     },
     "user_tz": 180
    },
    "id": "98qO5nW7pY6-"
   },
   "outputs": [],
   "source": [
    "learn_c = text_classifier_learner(data_clas, AWD_LSTM, config=config, pretrained=False, drop_mult=0.3, \n",
    "                                  metrics=[accuracy,f1])#.to_fp16()\n",
    "learn_c.load_encoder(path+'/models/'+f'{lang}fine_tuned_enc_tweets_bc_sp15_multifit_v2');"
   ]
  },
  {
   "cell_type": "markdown",
   "metadata": {
    "id": "qgYtMhsipY6_"
   },
   "source": [
    "#### Change loss function"
   ]
  },
  {
   "cell_type": "code",
   "execution_count": null,
   "metadata": {
    "colab": {
     "base_uri": "https://localhost:8080/",
     "height": 34
    },
    "executionInfo": {
     "elapsed": 559676,
     "status": "ok",
     "timestamp": 1601428618157,
     "user": {
      "displayName": "Antônio David",
      "photoUrl": "",
      "userId": "07452527623579301827"
     },
     "user_tz": 180
    },
    "id": "Mx-VzgWopY7A",
    "outputId": "98a143a2-fe5f-4fc3-affc-f597e7567cf9"
   },
   "outputs": [],
   "source": [
    "learn_c.loss_func"
   ]
  },
  {
   "cell_type": "code",
   "execution_count": null,
   "metadata": {
    "executionInfo": {
     "elapsed": 559671,
     "status": "ok",
     "timestamp": 1601428618158,
     "user": {
      "displayName": "Antônio David",
      "photoUrl": "",
      "userId": "07452527623579301827"
     },
     "user_tz": 180
    },
    "id": "HmPqLMeqpY7B"
   },
   "outputs": [],
   "source": [
    "loss_weights = torch.FloatTensor(trn_weights).cuda()\n",
    "learn_c.loss_func = FlattenedLoss(WeightedLabelSmoothingCrossEntropy, weight=loss_weights)"
   ]
  },
  {
   "cell_type": "code",
   "execution_count": null,
   "metadata": {
    "colab": {
     "base_uri": "https://localhost:8080/",
     "height": 34
    },
    "executionInfo": {
     "elapsed": 559665,
     "status": "ok",
     "timestamp": 1601428618158,
     "user": {
      "displayName": "Antônio David",
      "photoUrl": "",
      "userId": "07452527623579301827"
     },
     "user_tz": 180
    },
    "id": "_mVo_UvmpY7C",
    "outputId": "5eb68471-678f-4c67-ed7d-fe60e4cef287"
   },
   "outputs": [],
   "source": [
    "learn_c.loss_func"
   ]
  },
  {
   "cell_type": "markdown",
   "metadata": {
    "id": "GB1Mbq2LpY7D"
   },
   "source": [
    "#### Training"
   ]
  },
  {
   "cell_type": "code",
   "execution_count": null,
   "metadata": {
    "executionInfo": {
     "elapsed": 559660,
     "status": "ok",
     "timestamp": 1601428618158,
     "user": {
      "displayName": "Antônio David",
      "photoUrl": "",
      "userId": "07452527623579301827"
     },
     "user_tz": 180
    },
    "id": "4-G2PihCpY7E"
   },
   "outputs": [],
   "source": [
    "learn_c.freeze()"
   ]
  },
  {
   "cell_type": "code",
   "execution_count": null,
   "metadata": {
    "colab": {
     "base_uri": "https://localhost:8080/",
     "height": 112
    },
    "executionInfo": {
     "elapsed": 562868,
     "status": "ok",
     "timestamp": 1601428621372,
     "user": {
      "displayName": "Antônio David",
      "photoUrl": "",
      "userId": "07452527623579301827"
     },
     "user_tz": 180
    },
    "id": "K6SkkBXnpY7F",
    "outputId": "6a8bcebc-2af5-45e1-abba-f09656a2868c"
   },
   "outputs": [],
   "source": [
    "learn_c.lr_find()"
   ]
  },
  {
   "cell_type": "code",
   "execution_count": null,
   "metadata": {
    "colab": {
     "base_uri": "https://localhost:8080/",
     "height": 279
    },
    "executionInfo": {
     "elapsed": 563676,
     "status": "ok",
     "timestamp": 1601428622186,
     "user": {
      "displayName": "Antônio David",
      "photoUrl": "",
      "userId": "07452527623579301827"
     },
     "user_tz": 180
    },
    "id": "UPGlVSPtpY7G",
    "outputId": "fec489f7-bfa9-4153-ccca-d23b26e19730"
   },
   "outputs": [],
   "source": [
    "learn_c.recorder.plot()"
   ]
  },
  {
   "cell_type": "code",
   "execution_count": null,
   "metadata": {
    "executionInfo": {
     "elapsed": 563672,
     "status": "ok",
     "timestamp": 1601428622187,
     "user": {
      "displayName": "Antônio David",
      "photoUrl": "",
      "userId": "07452527623579301827"
     },
     "user_tz": 180
    },
    "id": "RHH8u7EfpY7H"
   },
   "outputs": [],
   "source": [
    "lr = 2e-1\n",
    "lr *= bs/48\n",
    "\n",
    "wd = 0.1"
   ]
  },
  {
   "cell_type": "code",
   "execution_count": null,
   "metadata": {
    "colab": {
     "base_uri": "https://localhost:8080/",
     "height": 111
    },
    "executionInfo": {
     "elapsed": 574877,
     "status": "ok",
     "timestamp": 1601428633398,
     "user": {
      "displayName": "Antônio David",
      "photoUrl": "",
      "userId": "07452527623579301827"
     },
     "user_tz": 180
    },
    "id": "S5MQQRVmpY7J",
    "outputId": "0726e30a-dd37-46aa-9ce1-430412acaaed"
   },
   "outputs": [],
   "source": [
    "learn_c.fit_one_cycle(2, lr, wd=wd, moms=(0.8,0.7))"
   ]
  },
  {
   "cell_type": "code",
   "execution_count": null,
   "metadata": {
    "executionInfo": {
     "elapsed": 583490,
     "status": "ok",
     "timestamp": 1601428642017,
     "user": {
      "displayName": "Antônio David",
      "photoUrl": "",
      "userId": "07452527623579301827"
     },
     "user_tz": 180
    },
    "id": "Avb2qqBdpY7L"
   },
   "outputs": [],
   "source": [
    "learn_c.save(f'{lang}clas_tweets_bc_sp15_multifit_v2')"
   ]
  },
  {
   "cell_type": "code",
   "execution_count": null,
   "metadata": {
    "colab": {
     "base_uri": "https://localhost:8080/",
     "height": 111
    },
    "executionInfo": {
     "elapsed": 593573,
     "status": "ok",
     "timestamp": 1601428652105,
     "user": {
      "displayName": "Antônio David",
      "photoUrl": "",
      "userId": "07452527623579301827"
     },
     "user_tz": 180
    },
    "id": "R4NCL7nspY7M",
    "outputId": "5ec124e8-8152-4e37-94d1-2248b7f7433e"
   },
   "outputs": [],
   "source": [
    "learn_c.fit_one_cycle(2, lr, wd=wd, moms=(0.8,0.7))"
   ]
  },
  {
   "cell_type": "code",
   "execution_count": null,
   "metadata": {
    "executionInfo": {
     "elapsed": 594488,
     "status": "ok",
     "timestamp": 1601428653028,
     "user": {
      "displayName": "Antônio David",
      "photoUrl": "",
      "userId": "07452527623579301827"
     },
     "user_tz": 180
    },
    "id": "wfcoMZvfpY7O"
   },
   "outputs": [],
   "source": [
    "learn_c.save(f'{lang}clas_tweets_bc_sp15_multifit_v2')"
   ]
  },
  {
   "cell_type": "code",
   "execution_count": null,
   "metadata": {
    "colab": {
     "base_uri": "https://localhost:8080/",
     "height": 111
    },
    "executionInfo": {
     "elapsed": 606159,
     "status": "ok",
     "timestamp": 1601428664704,
     "user": {
      "displayName": "Antônio David",
      "photoUrl": "",
      "userId": "07452527623579301827"
     },
     "user_tz": 180
    },
    "id": "cu-LXhh7pY7P",
    "outputId": "b282280e-8ed1-452e-c879-a39a4b031fe0"
   },
   "outputs": [],
   "source": [
    "learn_c.freeze_to(-2)\n",
    "learn_c.fit_one_cycle(2, slice(lr/(2.6**4),lr), wd=wd, moms=(0.8,0.7))"
   ]
  },
  {
   "cell_type": "code",
   "execution_count": null,
   "metadata": {
    "executionInfo": {
     "elapsed": 606154,
     "status": "ok",
     "timestamp": 1601428664705,
     "user": {
      "displayName": "Antônio David",
      "photoUrl": "",
      "userId": "07452527623579301827"
     },
     "user_tz": 180
    },
    "id": "tgcyVcDEpY7R"
   },
   "outputs": [],
   "source": [
    "learn_c.save(f'{lang}clas_tweets_bc_sp15_multifit_v2')"
   ]
  },
  {
   "cell_type": "code",
   "execution_count": null,
   "metadata": {
    "colab": {
     "base_uri": "https://localhost:8080/",
     "height": 111
    },
    "executionInfo": {
     "elapsed": 623934,
     "status": "ok",
     "timestamp": 1601428682491,
     "user": {
      "displayName": "Antônio David",
      "photoUrl": "",
      "userId": "07452527623579301827"
     },
     "user_tz": 180
    },
    "id": "O-TK9sD-pY7S",
    "outputId": "ae77ba8a-a3e1-43c3-98c0-8ec4a58ce157"
   },
   "outputs": [],
   "source": [
    "learn_c.freeze_to(-3)\n",
    "learn_c.fit_one_cycle(2, slice(lr/2/(2.6**4),lr/2), wd=wd, moms=(0.8,0.7))"
   ]
  },
  {
   "cell_type": "code",
   "execution_count": null,
   "metadata": {
    "executionInfo": {
     "elapsed": 624450,
     "status": "ok",
     "timestamp": 1601428683013,
     "user": {
      "displayName": "Antônio David",
      "photoUrl": "",
      "userId": "07452527623579301827"
     },
     "user_tz": 180
    },
    "id": "iG5dKiE6pY7T"
   },
   "outputs": [],
   "source": [
    "learn_c.save(f'{lang}clas_tweets_bc_sp15_multifit_v2')"
   ]
  },
  {
   "cell_type": "code",
   "execution_count": null,
   "metadata": {
    "colab": {
     "base_uri": "https://localhost:8080/",
     "height": 173
    },
    "executionInfo": {
     "elapsed": 687375,
     "status": "ok",
     "timestamp": 1601428745944,
     "user": {
      "displayName": "Antônio David",
      "photoUrl": "",
      "userId": "07452527623579301827"
     },
     "user_tz": 180
    },
    "id": "nrb0MmLZpY7U",
    "outputId": "2e375bd7-e4ff-405c-fa11-78e7f93a2077"
   },
   "outputs": [],
   "source": [
    "learn_c.unfreeze()\n",
    "learn_c.fit_one_cycle(4, slice(lr/10/(2.6**4),lr/10), wd=wd, moms=(0.8,0.7))"
   ]
  },
  {
   "cell_type": "code",
   "execution_count": null,
   "metadata": {
    "executionInfo": {
     "elapsed": 689855,
     "status": "ok",
     "timestamp": 1601428748429,
     "user": {
      "displayName": "Antônio David",
      "photoUrl": "",
      "userId": "07452527623579301827"
     },
     "user_tz": 180
    },
    "id": "ZtoOwMrepY7V"
   },
   "outputs": [],
   "source": [
    "learn_c.save(f'{lang}clas_tweets_bc_sp15_multifit_v2')"
   ]
  },
  {
   "cell_type": "code",
   "execution_count": null,
   "metadata": {
    "colab": {
     "base_uri": "https://localhost:8080/",
     "height": 173
    },
    "executionInfo": {
     "elapsed": 753148,
     "status": "ok",
     "timestamp": 1601428811728,
     "user": {
      "displayName": "Antônio David",
      "photoUrl": "",
      "userId": "07452527623579301827"
     },
     "user_tz": 180
    },
    "id": "fhncmw1NpY7W",
    "outputId": "b94381bd-9873-41ad-969c-7b2286792a6f"
   },
   "outputs": [],
   "source": [
    "learn_c.load(f'{lang}clas_tweets_bc_sp15_multifit_v2')\n",
    "learn_c.fit_one_cycle(4, slice(lr/100/(2.6**4),lr/100), wd=wd, moms=(0.8,0.7))"
   ]
  },
  {
   "cell_type": "code",
   "execution_count": null,
   "metadata": {
    "executionInfo": {
     "elapsed": 754602,
     "status": "ok",
     "timestamp": 1601428813188,
     "user": {
      "displayName": "Antônio David",
      "photoUrl": "",
      "userId": "07452527623579301827"
     },
     "user_tz": 180
    },
    "id": "DCSFY18fpY7X"
   },
   "outputs": [],
   "source": [
    "learn_c.save(f'{lang}clas_tweets_bc_sp15_multifit_v2')"
   ]
  },
  {
   "cell_type": "code",
   "execution_count": null,
   "metadata": {
    "colab": {
     "base_uri": "https://localhost:8080/",
     "height": 111
    },
    "executionInfo": {
     "elapsed": 786575,
     "status": "ok",
     "timestamp": 1601428845167,
     "user": {
      "displayName": "Antônio David",
      "photoUrl": "",
      "userId": "07452527623579301827"
     },
     "user_tz": 180
    },
    "id": "03bWiH5QpY7Y",
    "outputId": "a1a8c6be-b67a-4d24-bbb6-d06a3c7b907a"
   },
   "outputs": [],
   "source": [
    "learn_c.load(f'{lang}clas_tweets_bc_sp15_multifit_v2')\n",
    "learn_c.fit_one_cycle(2, slice(lr/1000/(2.6**4),lr/1000), wd=wd, moms=(0.8,0.7))"
   ]
  },
  {
   "cell_type": "code",
   "execution_count": null,
   "metadata": {
    "executionInfo": {
     "elapsed": 788452,
     "status": "ok",
     "timestamp": 1601428847049,
     "user": {
      "displayName": "Antônio David",
      "photoUrl": "",
      "userId": "07452527623579301827"
     },
     "user_tz": 180
    },
    "id": "3I5iNLBJpY7Z"
   },
   "outputs": [],
   "source": [
    "learn_c.save(f'{lang}clas_tweets_bc_sp15_multifit_v2')"
   ]
  },
  {
   "cell_type": "markdown",
   "metadata": {
    "id": "B4Nywao0pY7b"
   },
   "source": [
    "### Confusion matrix"
   ]
  },
  {
   "cell_type": "code",
   "execution_count": null,
   "metadata": {
    "colab": {
     "base_uri": "https://localhost:8080/",
     "height": 51
    },
    "executionInfo": {
     "elapsed": 2426,
     "status": "ok",
     "timestamp": 1601430507410,
     "user": {
      "displayName": "Antônio David",
      "photoUrl": "",
      "userId": "07452527623579301827"
     },
     "user_tz": 180
    },
    "id": "-VIKBRfSpY7b",
    "outputId": "3b93f76e-9caa-44e4-9c61-adfa64126db8"
   },
   "outputs": [],
   "source": [
    "%%time\n",
    "data_clas = load_data(path, f'{lang}_textlist_class_tweets_bc_sp15_multifit_v2', bs=bs, num_workers=1);\n",
    "\n",
    "config = awd_lstm_clas_config.copy()\n",
    "config['qrnn'] = True\n",
    "config['n_hid'] = 1550 #default 1152\n",
    "config['n_layers'] = 4 #default 3\n",
    "\n",
    "learn_c = text_classifier_learner(data_clas, AWD_LSTM, config=config)"
   ]
  },
  {
   "cell_type": "code",
   "execution_count": null,
   "metadata": {
    "executionInfo": {
     "elapsed": 2297,
     "status": "ok",
     "timestamp": 1601430510706,
     "user": {
      "displayName": "Antônio David",
      "photoUrl": "",
      "userId": "07452527623579301827"
     },
     "user_tz": 180
    },
    "id": "YG_MSw2bpY7e"
   },
   "outputs": [],
   "source": [
    "learn_c.load(f'{lang}clas_tweets_bc_sp15_multifit_v2', purge=False);"
   ]
  },
  {
   "cell_type": "code",
   "execution_count": null,
   "metadata": {
    "colab": {
     "base_uri": "https://localhost:8080/",
     "height": 311
    },
    "executionInfo": {
     "elapsed": 3001,
     "status": "ok",
     "timestamp": 1601430515387,
     "user": {
      "displayName": "Antônio David",
      "photoUrl": "",
      "userId": "07452527623579301827"
     },
     "user_tz": 180
    },
    "id": "qMTIFH5rpY7f",
    "outputId": "58249bed-298f-44ec-c3dd-0d326b206f31"
   },
   "outputs": [],
   "source": [
    "preds,y,losses = learn_c.get_preds(with_loss=True)\n",
    "predictions = np.argmax(preds, axis = 1)\n",
    "\n",
    "interp = ClassificationInterpretation(learn_c, preds, y, losses)\n",
    "interp.plot_confusion_matrix()"
   ]
  },
  {
   "cell_type": "code",
   "execution_count": null,
   "metadata": {
    "colab": {
     "base_uri": "https://localhost:8080/",
     "height": 102
    },
    "executionInfo": {
     "elapsed": 2206,
     "status": "ok",
     "timestamp": 1601430518856,
     "user": {
      "displayName": "Antônio David",
      "photoUrl": "",
      "userId": "07452527623579301827"
     },
     "user_tz": 180
    },
    "id": "dl0sN3ThpY7h",
    "outputId": "781c2607-25bf-486e-8b34-d831a8964469"
   },
   "outputs": [],
   "source": [
    "from sklearn.metrics import confusion_matrix\n",
    "cm = confusion_matrix(np.array(y), np.array(predictions))\n",
    "print(cm)\n",
    "\n",
    "## acc\n",
    "print(f'accuracy global: {(cm[0,0]+cm[1,1])/(cm.sum())}')\n",
    "\n",
    "# acc neg, acc pos\n",
    "print(f'accuracy on class 0: {cm[0,0]/(cm.sum(1)[0])*100}') \n",
    "print(f'accuracy on class 1: {cm[1,1]/(cm.sum(1)[1])*100}')\n"
   ]
  },
  {
   "cell_type": "code",
   "execution_count": null,
   "metadata": {
    "colab": {
     "base_uri": "https://localhost:8080/",
     "height": 408
    },
    "executionInfo": {
     "elapsed": 1997,
     "status": "ok",
     "timestamp": 1601430554060,
     "user": {
      "displayName": "Antônio David",
      "photoUrl": "",
      "userId": "07452527623579301827"
     },
     "user_tz": 180
    },
    "id": "tPKwdwQXkt12",
    "outputId": "1aef5c56-9dba-4484-b360-fb548184f182"
   },
   "outputs": [],
   "source": [
    "from sklearn.metrics import f1_score, classification_report, cohen_kappa_score, accuracy_score, balanced_accuracy_score, roc_auc_score, recall_score, precision_score\n",
    "\n",
    "print(classification_report(y_true=y,\n",
    "                            y_pred=predictions))    \n",
    "\n",
    "print(\"Kappa score: \", cohen_kappa_score(y, predictions),\"\\n\")\n",
    "print(\"Accuracy score: \", accuracy_score(y, predictions),\"\\n\")\n",
    "print(\"f1 macro score: \", f1_score(y, predictions, average='macro'),\"\\n\")\n",
    "print(\"Balanced Accuracy score: \", balanced_accuracy_score(y, predictions),\"\\n\")\n",
    "print(\"ROC AUC: \", roc_auc_score(y, predictions),\"\\n\")\n",
    "print(\"Recall: \", recall_score(y, predictions, pos_label = 0, average='binary'),\"\\n\")\n",
    "print(\"Precision: \", precision_score(y, predictions, pos_label = 0, average='binary'),\"\\n\")\n"
   ]
  },
  {
   "cell_type": "code",
   "execution_count": null,
   "metadata": {
    "colab": {
     "base_uri": "https://localhost:8080/",
     "height": 289
    },
    "executionInfo": {
     "elapsed": 1561,
     "status": "ok",
     "timestamp": 1601429311658,
     "user": {
      "displayName": "Antônio David",
      "photoUrl": "",
      "userId": "07452527623579301827"
     },
     "user_tz": 180
    },
    "id": "hBcj3Kt2pY7i",
    "outputId": "ae61e6c2-2f21-4d57-f693-3e03d7dfbdaa"
   },
   "outputs": [],
   "source": [
    "learn_c.show_results()"
   ]
  },
  {
   "cell_type": "markdown",
   "metadata": {
    "id": "u_mUMywupY7k"
   },
   "source": [
    "### Predictions some random sentences"
   ]
  },
  {
   "cell_type": "code",
   "execution_count": null,
   "metadata": {
    "colab": {
     "base_uri": "https://localhost:8080/",
     "height": 34
    },
    "executionInfo": {
     "elapsed": 2963,
     "status": "ok",
     "timestamp": 1601429317222,
     "user": {
      "displayName": "Antônio David",
      "photoUrl": "",
      "userId": "07452527623579301827"
     },
     "user_tz": 180
    },
    "id": "lcUyK-G1pY7k",
    "outputId": "d72ab93c-d2eb-4b91-af27-3527f349ddb0"
   },
   "outputs": [],
   "source": [
    "# Get the prediction\n",
    "test_text = \"Compra de papéis podres dos bancos vai virar dívida pública. Fattorelli fala sobre a regulamentação que o Banco Central expediu para a operações de compra de papéis podres dos bancos Vídeo de 3 min, assistam compartilhem importante!\".lower()\n",
    "pred = learn_c.predict(test_text)\n",
    "print(pred)"
   ]
  },
  {
   "cell_type": "code",
   "execution_count": null,
   "metadata": {
    "colab": {
     "base_uri": "https://localhost:8080/",
     "height": 51
    },
    "executionInfo": {
     "elapsed": 2558,
     "status": "ok",
     "timestamp": 1601429317224,
     "user": {
      "displayName": "Antônio David",
      "photoUrl": "",
      "userId": "07452527623579301827"
     },
     "user_tz": 180
    },
    "id": "6vM5cA6IpY7l",
    "outputId": "f5428ab0-7c8d-4f06-b38d-695bebcd54b4"
   },
   "outputs": [],
   "source": [
    "# The darker the word-shading in the below example, the more it contributes to the classification. \n",
    "txt_ci = TextClassificationInterpretation.from_learner(learn_c)\n",
    "txt_ci.show_intrinsic_attention(test_text,cmap=plt.cm.Purples)"
   ]
  },
  {
   "cell_type": "code",
   "execution_count": null,
   "metadata": {
    "colab": {
     "base_uri": "https://localhost:8080/",
     "height": 136
    },
    "executionInfo": {
     "elapsed": 2084,
     "status": "ok",
     "timestamp": 1601429317225,
     "user": {
      "displayName": "Antônio David",
      "photoUrl": "",
      "userId": "07452527623579301827"
     },
     "user_tz": 180
    },
    "id": "iu6-sa8PpY7m",
    "outputId": "6fd561a0-50a0-4a0b-e6d0-83c802f2b697"
   },
   "outputs": [],
   "source": [
    "txt_ci.intrinsic_attention(test_text)[1]"
   ]
  },
  {
   "cell_type": "code",
   "execution_count": null,
   "metadata": {
    "colab": {
     "base_uri": "https://localhost:8080/",
     "height": 289
    },
    "executionInfo": {
     "elapsed": 2274,
     "status": "ok",
     "timestamp": 1601429317896,
     "user": {
      "displayName": "Antônio David",
      "photoUrl": "",
      "userId": "07452527623579301827"
     },
     "user_tz": 180
    },
    "id": "ntD1ZsyDpY7n",
    "outputId": "9c9d0989-0b96-4091-9236-e56891f87008"
   },
   "outputs": [],
   "source": [
    "# tabulation showing the first k texts in top_losses along with their prediction, actual,loss, and probability of actual class.\n",
    "# max_len is the maximum number of tokens displayed. If max_len=None, it will display all tokens.\n",
    "txt_ci.show_top_losses(5)"
   ]
  },
  {
   "cell_type": "markdown",
   "metadata": {
    "id": "6-3s-RQIpY7o"
   },
   "source": [
    "## Fine-tuning \"backward Classifier\""
   ]
  },
  {
   "cell_type": "code",
   "execution_count": null,
   "metadata": {
    "executionInfo": {
     "elapsed": 1088,
     "status": "ok",
     "timestamp": 1601429321008,
     "user": {
      "displayName": "Antônio David",
      "photoUrl": "",
      "userId": "07452527623579301827"
     },
     "user_tz": 180
    },
    "id": "DWFEnMstpY7o"
   },
   "outputs": [],
   "source": [
    "import warnings\n",
    "warnings.filterwarnings('ignore')  # \"error\", \"ignore\", \"always\", \"default\", \"module\" or \"on"
   ]
  },
  {
   "cell_type": "code",
   "execution_count": null,
   "metadata": {
    "executionInfo": {
     "elapsed": 833,
     "status": "ok",
     "timestamp": 1601429321009,
     "user": {
      "displayName": "Antônio David",
      "photoUrl": "",
      "userId": "07452527623579301827"
     },
     "user_tz": 180
    },
    "id": "ESEpcq77pY7p"
   },
   "outputs": [],
   "source": [
    "bs = 18"
   ]
  },
  {
   "cell_type": "markdown",
   "metadata": {
    "id": "Gvq9fBKppY7q"
   },
   "source": [
    "### Databunch"
   ]
  },
  {
   "cell_type": "code",
   "execution_count": null,
   "metadata": {
    "colab": {
     "base_uri": "https://localhost:8080/",
     "height": 51
    },
    "executionInfo": {
     "elapsed": 2043,
     "status": "ok",
     "timestamp": 1601429322772,
     "user": {
      "displayName": "Antônio David",
      "photoUrl": "",
      "userId": "07452527623579301827"
     },
     "user_tz": 180
    },
    "id": "nlBa18ULpY7q",
    "outputId": "540f336c-aeb6-4ab5-c1dd-2a8047144bc4"
   },
   "outputs": [],
   "source": [
    "%%time\n",
    "data_lm = load_data(path, f'{lang}_databunch_lm_tweets_bc_sp15_multifit_bwd_v2', bs=bs, backwards=True)"
   ]
  },
  {
   "cell_type": "code",
   "execution_count": null,
   "metadata": {
    "colab": {
     "base_uri": "https://localhost:8080/",
     "height": 51
    },
    "executionInfo": {
     "elapsed": 2189,
     "status": "ok",
     "timestamp": 1601429323241,
     "user": {
      "displayName": "Antônio David",
      "photoUrl": "",
      "userId": "07452527623579301827"
     },
     "user_tz": 180
    },
    "id": "DQZNSXrspY7r",
    "outputId": "7530ee43-f634-427b-cb50-05398dda2de7"
   },
   "outputs": [],
   "source": [
    "%%time\n",
    "data_clas = (TextList.from_df(trainDF, path, cols='text', processor=SPProcessor.load(dest), vocab=data_lm.vocab)\n",
    "    .split_by_rand_pct(0.2, seed=100)\n",
    "    .label_from_df(cols='label')\n",
    "    .databunch(bs=bs, num_workers=1, backwards=True))"
   ]
  },
  {
   "cell_type": "code",
   "execution_count": null,
   "metadata": {
    "colab": {
     "base_uri": "https://localhost:8080/",
     "height": 51
    },
    "executionInfo": {
     "elapsed": 3813,
     "status": "ok",
     "timestamp": 1601429325304,
     "user": {
      "displayName": "Antônio David",
      "photoUrl": "",
      "userId": "07452527623579301827"
     },
     "user_tz": 180
    },
    "id": "XbMYI7WdpY7s",
    "outputId": "61c4dec1-20e1-4b7c-c3bb-c7ea034e5fe0"
   },
   "outputs": [],
   "source": [
    "%%time\n",
    "data_clas.save(f'{lang}_textlist_class_tweets_bc_sp15_multifit_bwd_v2')"
   ]
  },
  {
   "cell_type": "markdown",
   "metadata": {
    "id": "fxSAZrfnpY7v"
   },
   "source": [
    "### Get weights to penalize loss function of the majority class"
   ]
  },
  {
   "cell_type": "code",
   "execution_count": null,
   "metadata": {
    "colab": {
     "base_uri": "https://localhost:8080/",
     "height": 51
    },
    "executionInfo": {
     "elapsed": 2914,
     "status": "ok",
     "timestamp": 1601429325305,
     "user": {
      "displayName": "Antônio David",
      "photoUrl": "",
      "userId": "07452527623579301827"
     },
     "user_tz": 180
    },
    "id": "DZ4eoIWnpY7w",
    "outputId": "5f6d7af9-e62c-4a9f-e2cc-e18a2ad62dfc"
   },
   "outputs": [],
   "source": [
    "%%time\n",
    "data_clas = load_data(path, f'{lang}_textlist_class_tweets_bc_sp15_multifit_bwd_v2', bs=bs, num_workers=1, backwards=True)"
   ]
  },
  {
   "cell_type": "code",
   "execution_count": null,
   "metadata": {
    "colab": {
     "base_uri": "https://localhost:8080/",
     "height": 34
    },
    "executionInfo": {
     "elapsed": 2570,
     "status": "ok",
     "timestamp": 1601429325305,
     "user": {
      "displayName": "Antônio David",
      "photoUrl": "",
      "userId": "07452527623579301827"
     },
     "user_tz": 180
    },
    "id": "K5epjlZypY7x",
    "outputId": "ecb34210-0799-40e5-e857-694c8731a9c5"
   },
   "outputs": [],
   "source": [
    "num_trn = len(data_clas.train_ds.x)\n",
    "num_val = len(data_clas.valid_ds.x)\n",
    "num_trn, num_val, num_trn+num_val"
   ]
  },
  {
   "cell_type": "code",
   "execution_count": null,
   "metadata": {
    "colab": {
     "base_uri": "https://localhost:8080/",
     "height": 34
    },
    "executionInfo": {
     "elapsed": 2278,
     "status": "ok",
     "timestamp": 1601429325305,
     "user": {
      "displayName": "Antônio David",
      "photoUrl": "",
      "userId": "07452527623579301827"
     },
     "user_tz": 180
    },
    "id": "dT6ulgndpY7y",
    "outputId": "63841159-74e8-41c2-c49b-dba96f77f53e"
   },
   "outputs": [],
   "source": [
    "trn_LabelCounts = np.unique(data_clas.train_ds.y.items, return_counts=True)[1]\n",
    "val_LabelCounts = np.unique(data_clas.valid_ds.y.items, return_counts=True)[1]\n",
    "trn_LabelCounts, val_LabelCounts"
   ]
  },
  {
   "cell_type": "code",
   "execution_count": null,
   "metadata": {
    "executionInfo": {
     "elapsed": 1961,
     "status": "ok",
     "timestamp": 1601429325306,
     "user": {
      "displayName": "Antônio David",
      "photoUrl": "",
      "userId": "07452527623579301827"
     },
     "user_tz": 180
    },
    "id": "riFMLbY1pY70"
   },
   "outputs": [],
   "source": [
    "trn_weights = [1 - count/num_trn for count in trn_LabelCounts]\n",
    "val_weights = [1 - count/num_val for count in val_LabelCounts]\n",
    "#trn_weights, val_weights"
   ]
  },
  {
   "cell_type": "markdown",
   "metadata": {
    "id": "_dsdI-4ppY71"
   },
   "source": [
    "### Training (Loss = FlattenedLoss of weighted LabelSmoothingCrossEntropy)"
   ]
  },
  {
   "cell_type": "code",
   "execution_count": null,
   "metadata": {
    "colab": {
     "base_uri": "https://localhost:8080/",
     "height": 51
    },
    "executionInfo": {
     "elapsed": 1183,
     "status": "ok",
     "timestamp": 1601429325306,
     "user": {
      "displayName": "Antônio David",
      "photoUrl": "",
      "userId": "07452527623579301827"
     },
     "user_tz": 180
    },
    "id": "f93FFQSspY71",
    "outputId": "60ca00bb-a50f-4341-b3f9-37880170b092"
   },
   "outputs": [],
   "source": [
    "%%time\n",
    "data_clas = load_data(path, f'{lang}_textlist_class_tweets_bc_sp15_multifit_bwd_v2', bs=bs, num_workers=1, backwards=True)"
   ]
  },
  {
   "cell_type": "code",
   "execution_count": null,
   "metadata": {
    "executionInfo": {
     "elapsed": 688,
     "status": "ok",
     "timestamp": 1601429325306,
     "user": {
      "displayName": "Antônio David",
      "photoUrl": "",
      "userId": "07452527623579301827"
     },
     "user_tz": 180
    },
    "id": "EWo7cBHXpY72"
   },
   "outputs": [],
   "source": [
    "config = awd_lstm_clas_config.copy()\n",
    "config['qrnn'] = True\n",
    "config['n_hid'] = 1550 #default 1152\n",
    "config['n_layers'] = 4 #default 3"
   ]
  },
  {
   "cell_type": "code",
   "execution_count": null,
   "metadata": {
    "executionInfo": {
     "elapsed": 2611,
     "status": "ok",
     "timestamp": 1601429327590,
     "user": {
      "displayName": "Antônio David",
      "photoUrl": "",
      "userId": "07452527623579301827"
     },
     "user_tz": 180
    },
    "id": "HTO1G6FZpY73"
   },
   "outputs": [],
   "source": [
    "learn_c = text_classifier_learner(data_clas, AWD_LSTM, config=config, drop_mult=0.3, metrics=[accuracy,f1]).to_fp16()\n",
    "learn_c.load_encoder(f'{lang}fine_tuned_enc_tweets_bc_sp15_multifit_bwd_v2');"
   ]
  },
  {
   "cell_type": "markdown",
   "metadata": {
    "id": "R2f4egM_pY74"
   },
   "source": [
    "#### Change loss function"
   ]
  },
  {
   "cell_type": "code",
   "execution_count": null,
   "metadata": {
    "colab": {
     "base_uri": "https://localhost:8080/",
     "height": 34
    },
    "executionInfo": {
     "elapsed": 1467,
     "status": "ok",
     "timestamp": 1601429327590,
     "user": {
      "displayName": "Antônio David",
      "photoUrl": "",
      "userId": "07452527623579301827"
     },
     "user_tz": 180
    },
    "id": "Un0iw5L3pY74",
    "outputId": "941df40b-e3e9-4453-97e1-6f2542f8d213"
   },
   "outputs": [],
   "source": [
    "learn_c.loss_func"
   ]
  },
  {
   "cell_type": "code",
   "execution_count": null,
   "metadata": {
    "executionInfo": {
     "elapsed": 745,
     "status": "ok",
     "timestamp": 1601429328052,
     "user": {
      "displayName": "Antônio David",
      "photoUrl": "",
      "userId": "07452527623579301827"
     },
     "user_tz": 180
    },
    "id": "dz9GqXV-pY75"
   },
   "outputs": [],
   "source": [
    "loss_weights = torch.FloatTensor(trn_weights).cuda()\n",
    "learn_c.loss_func = FlattenedLoss(WeightedLabelSmoothingCrossEntropy, weight=loss_weights)"
   ]
  },
  {
   "cell_type": "code",
   "execution_count": null,
   "metadata": {
    "colab": {
     "base_uri": "https://localhost:8080/",
     "height": 34
    },
    "executionInfo": {
     "elapsed": 1574,
     "status": "ok",
     "timestamp": 1601429329559,
     "user": {
      "displayName": "Antônio David",
      "photoUrl": "",
      "userId": "07452527623579301827"
     },
     "user_tz": 180
    },
    "id": "6__1jIBSpY76",
    "outputId": "44a723bb-6568-4926-c059-1be8f64644eb"
   },
   "outputs": [],
   "source": [
    "learn_c.loss_func"
   ]
  },
  {
   "cell_type": "markdown",
   "metadata": {
    "id": "-efi8u9XpY77"
   },
   "source": [
    "#### Training"
   ]
  },
  {
   "cell_type": "code",
   "execution_count": null,
   "metadata": {
    "executionInfo": {
     "elapsed": 1599,
     "status": "ok",
     "timestamp": 1601429330508,
     "user": {
      "displayName": "Antônio David",
      "photoUrl": "",
      "userId": "07452527623579301827"
     },
     "user_tz": 180
    },
    "id": "S1EyhYYIpY77"
   },
   "outputs": [],
   "source": [
    "learn_c.freeze()"
   ]
  },
  {
   "cell_type": "code",
   "execution_count": null,
   "metadata": {
    "colab": {
     "base_uri": "https://localhost:8080/",
     "height": 112
    },
    "executionInfo": {
     "elapsed": 4031,
     "status": "ok",
     "timestamp": 1601429336168,
     "user": {
      "displayName": "Antônio David",
      "photoUrl": "",
      "userId": "07452527623579301827"
     },
     "user_tz": 180
    },
    "id": "SsogEIYEpY78",
    "outputId": "2edae48f-1487-44b9-fbc1-db8f8f71f7a7"
   },
   "outputs": [],
   "source": [
    "learn_c.lr_find()"
   ]
  },
  {
   "cell_type": "code",
   "execution_count": null,
   "metadata": {
    "colab": {
     "base_uri": "https://localhost:8080/",
     "height": 279
    },
    "executionInfo": {
     "elapsed": 4560,
     "status": "ok",
     "timestamp": 1601429336962,
     "user": {
      "displayName": "Antônio David",
      "photoUrl": "",
      "userId": "07452527623579301827"
     },
     "user_tz": 180
    },
    "id": "HfFJIq_5pY79",
    "outputId": "1d13f3e9-73df-48de-e4a9-0373ebbd8712"
   },
   "outputs": [],
   "source": [
    "learn_c.recorder.plot()"
   ]
  },
  {
   "cell_type": "code",
   "execution_count": null,
   "metadata": {
    "executionInfo": {
     "elapsed": 4311,
     "status": "ok",
     "timestamp": 1601429336962,
     "user": {
      "displayName": "Antônio David",
      "photoUrl": "",
      "userId": "07452527623579301827"
     },
     "user_tz": 180
    },
    "id": "DBm4a3UMpY7_"
   },
   "outputs": [],
   "source": [
    "lr = 2e-1\n",
    "lr *= bs/48\n",
    "\n",
    "wd = 0.1"
   ]
  },
  {
   "cell_type": "code",
   "execution_count": null,
   "metadata": {
    "colab": {
     "base_uri": "https://localhost:8080/",
     "height": 111
    },
    "executionInfo": {
     "elapsed": 14842,
     "status": "ok",
     "timestamp": 1601429347728,
     "user": {
      "displayName": "Antônio David",
      "photoUrl": "",
      "userId": "07452527623579301827"
     },
     "user_tz": 180
    },
    "id": "EpBZb1MYpY8A",
    "outputId": "e3df434d-023d-4e2c-df5f-148349a1b8d2"
   },
   "outputs": [],
   "source": [
    "learn_c.fit_one_cycle(2, lr, wd=wd, moms=(0.8,0.7))"
   ]
  },
  {
   "cell_type": "code",
   "execution_count": null,
   "metadata": {
    "executionInfo": {
     "elapsed": 22875,
     "status": "ok",
     "timestamp": 1601429355977,
     "user": {
      "displayName": "Antônio David",
      "photoUrl": "",
      "userId": "07452527623579301827"
     },
     "user_tz": 180
    },
    "id": "LZpRtgI3pY8B"
   },
   "outputs": [],
   "source": [
    "learn_c.save(f'{lang}clas_tweets_bc_sp15_multifit_bwd_v2')"
   ]
  },
  {
   "cell_type": "code",
   "execution_count": null,
   "metadata": {
    "colab": {
     "base_uri": "https://localhost:8080/",
     "height": 111
    },
    "executionInfo": {
     "elapsed": 33903,
     "status": "ok",
     "timestamp": 1601429367209,
     "user": {
      "displayName": "Antônio David",
      "photoUrl": "",
      "userId": "07452527623579301827"
     },
     "user_tz": 180
    },
    "id": "JCr5HazupY8D",
    "outputId": "3d4b5cf7-f481-4709-f97d-bc8709811b6b"
   },
   "outputs": [],
   "source": [
    "learn_c.fit_one_cycle(2, lr, wd=wd, moms=(0.8,0.7))"
   ]
  },
  {
   "cell_type": "code",
   "execution_count": null,
   "metadata": {
    "executionInfo": {
     "elapsed": 37448,
     "status": "ok",
     "timestamp": 1601429370971,
     "user": {
      "displayName": "Antônio David",
      "photoUrl": "",
      "userId": "07452527623579301827"
     },
     "user_tz": 180
    },
    "id": "hw7zmK0CpY8E"
   },
   "outputs": [],
   "source": [
    "learn_c.save(f'{lang}clas_tweets_bco_sp15_multifit_bwd_v2')"
   ]
  },
  {
   "cell_type": "code",
   "execution_count": null,
   "metadata": {
    "colab": {
     "base_uri": "https://localhost:8080/",
     "height": 111
    },
    "executionInfo": {
     "elapsed": 49576,
     "status": "ok",
     "timestamp": 1601429383294,
     "user": {
      "displayName": "Antônio David",
      "photoUrl": "",
      "userId": "07452527623579301827"
     },
     "user_tz": 180
    },
    "id": "vO9DD5OKpY8F",
    "outputId": "e73d22f9-6896-41a9-9801-9ea92f88172f"
   },
   "outputs": [],
   "source": [
    "learn_c.freeze_to(-2)\n",
    "learn_c.fit_one_cycle(2, slice(lr/(2.6**4),lr), wd=wd, moms=(0.8,0.7))"
   ]
  },
  {
   "cell_type": "code",
   "execution_count": null,
   "metadata": {
    "executionInfo": {
     "elapsed": 49382,
     "status": "ok",
     "timestamp": 1601429383295,
     "user": {
      "displayName": "Antônio David",
      "photoUrl": "",
      "userId": "07452527623579301827"
     },
     "user_tz": 180
    },
    "id": "v6Tr3pzVpY8G"
   },
   "outputs": [],
   "source": [
    "learn_c.save(f'{lang}clas_tweets_bc_sp15_multifit_bwd_v2')"
   ]
  },
  {
   "cell_type": "code",
   "execution_count": null,
   "metadata": {
    "colab": {
     "base_uri": "https://localhost:8080/",
     "height": 111
    },
    "executionInfo": {
     "elapsed": 68005,
     "status": "ok",
     "timestamp": 1601429402096,
     "user": {
      "displayName": "Antônio David",
      "photoUrl": "",
      "userId": "07452527623579301827"
     },
     "user_tz": 180
    },
    "id": "pMmyExpWpY8H",
    "outputId": "649f03e1-2375-4a3f-a485-3c2f1bed6637"
   },
   "outputs": [],
   "source": [
    "learn_c.freeze_to(-3)\n",
    "learn_c.fit_one_cycle(2, slice(lr/2/(2.6**4),lr/2), wd=wd, moms=(0.8,0.7))"
   ]
  },
  {
   "cell_type": "code",
   "execution_count": null,
   "metadata": {
    "executionInfo": {
     "elapsed": 66171,
     "status": "ok",
     "timestamp": 1601429403100,
     "user": {
      "displayName": "Antônio David",
      "photoUrl": "",
      "userId": "07452527623579301827"
     },
     "user_tz": 180
    },
    "id": "DRToxBMspY8I"
   },
   "outputs": [],
   "source": [
    "learn_c.save(f'{lang}clas_tweets_bc_sp15_multifit_bwd_v2')"
   ]
  },
  {
   "cell_type": "code",
   "execution_count": null,
   "metadata": {
    "colab": {
     "base_uri": "https://localhost:8080/",
     "height": 173
    },
    "executionInfo": {
     "elapsed": 136631,
     "status": "ok",
     "timestamp": 1601429473791,
     "user": {
      "displayName": "Antônio David",
      "photoUrl": "",
      "userId": "07452527623579301827"
     },
     "user_tz": 180
    },
    "id": "BT9VpbxdpY8J",
    "outputId": "c6e55e6f-bf1a-466d-ad7b-d174bc3415c3"
   },
   "outputs": [],
   "source": [
    "learn_c.unfreeze()\n",
    "learn_c.fit_one_cycle(4, slice(lr/10/(2.6**4),lr/10), wd=wd, moms=(0.8,0.7))"
   ]
  },
  {
   "cell_type": "code",
   "execution_count": null,
   "metadata": {
    "executionInfo": {
     "elapsed": 138261,
     "status": "ok",
     "timestamp": 1601429475585,
     "user": {
      "displayName": "Antônio David",
      "photoUrl": "",
      "userId": "07452527623579301827"
     },
     "user_tz": 180
    },
    "id": "MsoOT51SpY8J"
   },
   "outputs": [],
   "source": [
    "learn_c.save(f'{lang}clas_tweets_bc_sp15_multifit_bwd_v2')"
   ]
  },
  {
   "cell_type": "code",
   "execution_count": null,
   "metadata": {
    "colab": {
     "base_uri": "https://localhost:8080/",
     "height": 173
    },
    "executionInfo": {
     "elapsed": 210318,
     "status": "ok",
     "timestamp": 1601429547821,
     "user": {
      "displayName": "Antônio David",
      "photoUrl": "",
      "userId": "07452527623579301827"
     },
     "user_tz": 180
    },
    "id": "XDz8GrnxpY8K",
    "outputId": "8ee841eb-d841-4b8f-969e-f0d57deb15e5"
   },
   "outputs": [],
   "source": [
    "learn_c.fit_one_cycle(4, slice(lr/100/(2.6**4),lr/100), wd=wd, moms=(0.8,0.7))"
   ]
  },
  {
   "cell_type": "code",
   "execution_count": null,
   "metadata": {
    "executionInfo": {
     "elapsed": 210593,
     "status": "ok",
     "timestamp": 1601429548275,
     "user": {
      "displayName": "Antônio David",
      "photoUrl": "",
      "userId": "07452527623579301827"
     },
     "user_tz": 180
    },
    "id": "orQ3QZIQpY8M"
   },
   "outputs": [],
   "source": [
    "learn_c.save(f'{lang}clas_tweets_bc_sp15_multifit_bwd_v2')"
   ]
  },
  {
   "cell_type": "code",
   "execution_count": null,
   "metadata": {
    "colab": {
     "base_uri": "https://localhost:8080/",
     "height": 80
    },
    "executionInfo": {
     "elapsed": 229341,
     "status": "ok",
     "timestamp": 1601429567192,
     "user": {
      "displayName": "Antônio David",
      "photoUrl": "",
      "userId": "07452527623579301827"
     },
     "user_tz": 180
    },
    "id": "VoPw8QdjpY8N",
    "outputId": "cb4661f4-558d-409c-d3de-df9cac123fd6"
   },
   "outputs": [],
   "source": [
    "learn_c.load(f'{lang}clas_tweets_bc_sp15_multifit_bwd_v2')\n",
    "learn_c.fit_one_cycle(1, slice(lr/1000/(2.6**4),lr/1000), wd=wd, moms=(0.8,0.7))"
   ]
  },
  {
   "cell_type": "code",
   "execution_count": null,
   "metadata": {
    "colab": {
     "base_uri": "https://localhost:8080/",
     "height": 80
    },
    "executionInfo": {
     "elapsed": 247802,
     "status": "ok",
     "timestamp": 1601429585831,
     "user": {
      "displayName": "Antônio David",
      "photoUrl": "",
      "userId": "07452527623579301827"
     },
     "user_tz": 180
    },
    "id": "oIDEKKjzpY8O",
    "outputId": "0730eaa3-4214-4cb0-caf6-e2c207dbb064"
   },
   "outputs": [],
   "source": [
    "learn_c.fit_one_cycle(1, slice(lr/1000/(2.6**4),lr/1000), wd=wd, moms=(0.8,0.7))"
   ]
  },
  {
   "cell_type": "code",
   "execution_count": null,
   "metadata": {
    "executionInfo": {
     "elapsed": 248558,
     "status": "ok",
     "timestamp": 1601429586775,
     "user": {
      "displayName": "Antônio David",
      "photoUrl": "",
      "userId": "07452527623579301827"
     },
     "user_tz": 180
    },
    "id": "0YMJp51ApY8O"
   },
   "outputs": [],
   "source": [
    "learn_c.save(f'{lang}clas_tweets_bc_sp15_multifit_bwd_v2')"
   ]
  },
  {
   "cell_type": "code",
   "execution_count": null,
   "metadata": {
    "colab": {
     "base_uri": "https://localhost:8080/",
     "height": 323
    },
    "executionInfo": {
     "elapsed": 249753,
     "status": "error",
     "timestamp": 1601429588150,
     "user": {
      "displayName": "Antônio David",
      "photoUrl": "",
      "userId": "07452527623579301827"
     },
     "user_tz": 180
    },
    "id": "t4e1oW7rpY8P",
    "outputId": "08f18faa-eedf-4083-a84d-49e3afe3c056"
   },
   "outputs": [],
   "source": [
    "learn_c.load(f'{lang}clas_tweets_bc_sp15_multifit_bwd_v2');\n",
    "learn_c.to_fp32().export(f'{lang}_classifier_tweets_bc_sp15_multifit_bwd_v2')"
   ]
  },
  {
   "cell_type": "markdown",
   "metadata": {
    "id": "KtGsa50EpY8Q"
   },
   "source": [
    "### Confusion matrix"
   ]
  },
  {
   "cell_type": "code",
   "execution_count": null,
   "metadata": {
    "colab": {
     "base_uri": "https://localhost:8080/",
     "height": 51
    },
    "executionInfo": {
     "elapsed": 2342,
     "status": "ok",
     "timestamp": 1601430589074,
     "user": {
      "displayName": "Antônio David",
      "photoUrl": "",
      "userId": "07452527623579301827"
     },
     "user_tz": 180
    },
    "id": "p8Qn-B1npY8R",
    "outputId": "e6615602-383e-44c3-e89b-bf4a0c2b72c3"
   },
   "outputs": [],
   "source": [
    "%%time\n",
    "data_clas = load_data(path, f'{lang}_textlist_class_tweets_bc_sp15_multifit_bwd_v2', bs=bs, num_workers=1, backwards=True)\n",
    "\n",
    "config = awd_lstm_clas_config.copy()\n",
    "config['qrnn'] = True\n",
    "config['n_hid'] = 1550 #default 1152\n",
    "config['n_layers'] = 4 #default 3\n",
    "\n",
    "learn_c = text_classifier_learner(data_clas, AWD_LSTM, config=config)"
   ]
  },
  {
   "cell_type": "code",
   "execution_count": null,
   "metadata": {
    "executionInfo": {
     "elapsed": 2193,
     "status": "ok",
     "timestamp": 1601430592031,
     "user": {
      "displayName": "Antônio David",
      "photoUrl": "",
      "userId": "07452527623579301827"
     },
     "user_tz": 180
    },
    "id": "O9TDqlgspY8T"
   },
   "outputs": [],
   "source": [
    "learn_c.load(f'{lang}clas_tweets_bc_sp15_multifit_bwd_v2', purge=False);"
   ]
  },
  {
   "cell_type": "code",
   "execution_count": null,
   "metadata": {
    "colab": {
     "base_uri": "https://localhost:8080/",
     "height": 311
    },
    "executionInfo": {
     "elapsed": 2587,
     "status": "ok",
     "timestamp": 1601430595338,
     "user": {
      "displayName": "Antônio David",
      "photoUrl": "",
      "userId": "07452527623579301827"
     },
     "user_tz": 180
    },
    "id": "stdc6OjspY8U",
    "outputId": "fb221efb-c008-409b-a0e0-4d7419de2739"
   },
   "outputs": [],
   "source": [
    "preds,y,losses = learn_c.get_preds(with_loss=True)\n",
    "predictions = np.argmax(preds, axis = 1)\n",
    "\n",
    "interp = ClassificationInterpretation(learn_c, preds, y, losses)\n",
    "interp.plot_confusion_matrix()"
   ]
  },
  {
   "cell_type": "code",
   "execution_count": null,
   "metadata": {
    "colab": {
     "base_uri": "https://localhost:8080/",
     "height": 102
    },
    "executionInfo": {
     "elapsed": 1998,
     "status": "ok",
     "timestamp": 1601430598522,
     "user": {
      "displayName": "Antônio David",
      "photoUrl": "",
      "userId": "07452527623579301827"
     },
     "user_tz": 180
    },
    "id": "QZbgLnAtpY8U",
    "outputId": "6dda0821-9ae4-4fe9-ca43-edec5fafb485"
   },
   "outputs": [],
   "source": [
    "from sklearn.metrics import confusion_matrix\n",
    "cm = confusion_matrix(np.array(y), np.array(predictions))\n",
    "print(cm)\n",
    "\n",
    "## acc\n",
    "print(f'accuracy global: {(cm[0,0]+cm[1,1])/(cm.sum())}')\n",
    "#print(f'accuracy global: {(cm[0,0]+cm[1,1]+cm[2,2]+cm[3,3])/(cm.sum())}')\n",
    "\n",
    "# acc neg, acc pos\n",
    "print(f'accuracy on class 0: {cm[0,0]/(cm.sum(1)[0])*100}') \n",
    "print(f'accuracy on class 1: {cm[1,1]/(cm.sum(1)[1])*100}')\n",
    "#print(f'accuracy on class 2: {cm[2,2]/(cm.sum(1)[2])*100}')\n",
    "#print(f'accuracy on class 3: {cm[3,3]/(cm.sum(1)[3])*100}')"
   ]
  },
  {
   "cell_type": "code",
   "execution_count": null,
   "metadata": {
    "colab": {
     "base_uri": "https://localhost:8080/",
     "height": 408
    },
    "executionInfo": {
     "elapsed": 1416,
     "status": "ok",
     "timestamp": 1601430601918,
     "user": {
      "displayName": "Antônio David",
      "photoUrl": "",
      "userId": "07452527623579301827"
     },
     "user_tz": 180
    },
    "id": "tSCxmGzEkKhp",
    "outputId": "4883c410-79d9-4b7c-a44e-b3c0e2022369"
   },
   "outputs": [],
   "source": [
    "from sklearn.metrics import f1_score, classification_report, cohen_kappa_score, accuracy_score, balanced_accuracy_score, roc_auc_score, recall_score, precision_score\n",
    "\n",
    "print(classification_report(y_true=y,\n",
    "                            y_pred=predictions))    \n",
    "\n",
    "print(\"Kappa score: \", cohen_kappa_score(y, predictions),\"\\n\")\n",
    "print(\"Accuracy score: \", accuracy_score(y, predictions),\"\\n\")\n",
    "print(\"f1 macro score: \", f1_score(y, predictions, average='macro'),\"\\n\")\n",
    "print(\"Balanced Accuracy score: \", balanced_accuracy_score(y, predictions),\"\\n\")\n",
    "print(\"ROC AUC: \", roc_auc_score(y, predictions),\"\\n\")\n",
    "print(\"Recall: \", recall_score(y, predictions, pos_label = 0, average='binary'),\"\\n\")\n",
    "print(\"Precision: \", precision_score(y, predictions, pos_label = 0, average='binary'),\"\\n\")\n"
   ]
  },
  {
   "cell_type": "markdown",
   "metadata": {
    "id": "tWViU3kJ0ug5"
   },
   "source": [
    "# Nova seção"
   ]
  },
  {
   "cell_type": "code",
   "execution_count": null,
   "metadata": {
    "colab": {
     "base_uri": "https://localhost:8080/",
     "height": 289
    },
    "executionInfo": {
     "elapsed": 1046,
     "status": "ok",
     "timestamp": 1601430362654,
     "user": {
      "displayName": "Antônio David",
      "photoUrl": "",
      "userId": "07452527623579301827"
     },
     "user_tz": 180
    },
    "id": "ZHmmwz6opY8W",
    "outputId": "fcdc82ca-f361-4d4a-9e88-bf23651fcf06"
   },
   "outputs": [],
   "source": [
    "learn_c.show_results()"
   ]
  },
  {
   "cell_type": "markdown",
   "metadata": {
    "id": "5qlYpCS6pY8X"
   },
   "source": [
    "### Predictions some random sentences"
   ]
  },
  {
   "cell_type": "code",
   "execution_count": null,
   "metadata": {
    "colab": {
     "base_uri": "https://localhost:8080/",
     "height": 34
    },
    "executionInfo": {
     "elapsed": 908,
     "status": "ok",
     "timestamp": 1601430366298,
     "user": {
      "displayName": "Antônio David",
      "photoUrl": "",
      "userId": "07452527623579301827"
     },
     "user_tz": 180
    },
    "id": "Bsll_-31pY8X",
    "outputId": "68f38e5b-be29-4798-cc09-bd64c395defa"
   },
   "outputs": [],
   "source": [
    "# Get the prediction\n",
    "test_text = \"Já passou da hora do banco central atuar.\".lower()\n",
    "pred = learn_c.predict(test_text)\n",
    "print(pred)"
   ]
  },
  {
   "cell_type": "code",
   "execution_count": null,
   "metadata": {
    "colab": {
     "base_uri": "https://localhost:8080/",
     "height": 34
    },
    "executionInfo": {
     "elapsed": 2351,
     "status": "ok",
     "timestamp": 1601430369287,
     "user": {
      "displayName": "Antônio David",
      "photoUrl": "",
      "userId": "07452527623579301827"
     },
     "user_tz": 180
    },
    "id": "u9RiCcRzpY8Z",
    "outputId": "3c400b8c-7cde-4fb2-e6a8-503f1f9a757f"
   },
   "outputs": [],
   "source": [
    "# The darker the word-shading in the below example, the more it contributes to the classification. \n",
    "txt_ci = TextClassificationInterpretation.from_learner(learn_c)\n",
    "txt_ci.show_intrinsic_attention(test_text,cmap=plt.cm.Purples)"
   ]
  },
  {
   "cell_type": "code",
   "execution_count": null,
   "metadata": {
    "colab": {
     "base_uri": "https://localhost:8080/",
     "height": 51
    },
    "executionInfo": {
     "elapsed": 1456,
     "status": "ok",
     "timestamp": 1601430372703,
     "user": {
      "displayName": "Antônio David",
      "photoUrl": "",
      "userId": "07452527623579301827"
     },
     "user_tz": 180
    },
    "id": "WJuqFfe2pY8a",
    "outputId": "67c629a4-a9d5-4ff1-fc12-c976916df989"
   },
   "outputs": [],
   "source": [
    "txt_ci.intrinsic_attention(test_text)[1]"
   ]
  },
  {
   "cell_type": "code",
   "execution_count": null,
   "metadata": {
    "colab": {
     "base_uri": "https://localhost:8080/",
     "height": 255
    },
    "executionInfo": {
     "elapsed": 1478,
     "status": "ok",
     "timestamp": 1601430376527,
     "user": {
      "displayName": "Antônio David",
      "photoUrl": "",
      "userId": "07452527623579301827"
     },
     "user_tz": 180
    },
    "id": "aEHbug29pY8b",
    "outputId": "5aef2b5e-e7ef-436c-be00-15fa55ecdd35"
   },
   "outputs": [],
   "source": [
    "# tabulation showing the first k texts in top_losses along with their prediction, actual,loss, and probability of actual class.\n",
    "# max_len is the maximum number of tokens displayed. If max_len=None, it will display all tokens.\n",
    "txt_ci.show_top_losses(5)"
   ]
  },
  {
   "cell_type": "markdown",
   "metadata": {
    "id": "Q5ZI3UG5pY8c"
   },
   "source": [
    "## Ensemble"
   ]
  },
  {
   "cell_type": "code",
   "execution_count": null,
   "metadata": {
    "executionInfo": {
     "elapsed": 3054,
     "status": "ok",
     "timestamp": 1601430630047,
     "user": {
      "displayName": "Antônio David",
      "photoUrl": "",
      "userId": "07452527623579301827"
     },
     "user_tz": 180
    },
    "id": "_N3F1izppY8c"
   },
   "outputs": [],
   "source": [
    "bs = 18"
   ]
  },
  {
   "cell_type": "code",
   "execution_count": null,
   "metadata": {
    "executionInfo": {
     "elapsed": 2806,
     "status": "ok",
     "timestamp": 1601430630048,
     "user": {
      "displayName": "Antônio David",
      "photoUrl": "",
      "userId": "07452527623579301827"
     },
     "user_tz": 180
    },
    "id": "oicAKMzLpY8d"
   },
   "outputs": [],
   "source": [
    "config = awd_lstm_clas_config.copy()\n",
    "config['qrnn'] = True\n",
    "config['n_hid'] = 1550 #default 1152\n",
    "config['n_layers'] = 4 #default 3"
   ]
  },
  {
   "cell_type": "code",
   "execution_count": null,
   "metadata": {
    "executionInfo": {
     "elapsed": 3071,
     "status": "ok",
     "timestamp": 1601430630531,
     "user": {
      "displayName": "Antônio David",
      "photoUrl": "",
      "userId": "07452527623579301827"
     },
     "user_tz": 180
    },
    "id": "qY7U6tcFpY8e"
   },
   "outputs": [],
   "source": [
    "data_clas = load_data(path, f'{lang}_textlist_class_tweets_bc_sp15_multifit_v2', bs=bs, num_workers=1)\n",
    "learn_c = text_classifier_learner(data_clas, AWD_LSTM, config=config, drop_mult=0.3, metrics=[accuracy,f1]).to_fp16()\n",
    "learn_c.load(f'{lang}clas_tweets_bc_sp15_multifit_v2', purge=False);"
   ]
  },
  {
   "cell_type": "code",
   "execution_count": null,
   "metadata": {
    "colab": {
     "base_uri": "https://localhost:8080/",
     "height": 34
    },
    "executionInfo": {
     "elapsed": 2876,
     "status": "ok",
     "timestamp": 1601430630532,
     "user": {
      "displayName": "Antônio David",
      "photoUrl": "",
      "userId": "07452527623579301827"
     },
     "user_tz": 180
    },
    "id": "Dqor7Y9mpY8f",
    "outputId": "3571c248-ff63-4188-c984-950deeae47c9"
   },
   "outputs": [],
   "source": [
    "preds,targs = learn_c.get_preds(ordered=True)\n",
    "accuracy(preds,targs),f1(preds,targs)"
   ]
  },
  {
   "cell_type": "code",
   "execution_count": null,
   "metadata": {
    "executionInfo": {
     "elapsed": 3948,
     "status": "ok",
     "timestamp": 1601430631802,
     "user": {
      "displayName": "Antônio David",
      "photoUrl": "",
      "userId": "07452527623579301827"
     },
     "user_tz": 180
    },
    "id": "043V-noVpY8g"
   },
   "outputs": [],
   "source": [
    "data_clas_bwd = load_data(path, f'{lang}_textlist_class_tweets_bc_sp15_multifit_bwd_v2', bs=bs, num_workers=1, backwards=True)\n",
    "learn_c_bwd = text_classifier_learner(data_clas_bwd, AWD_LSTM, config=config, drop_mult=0.3, metrics=[accuracy,f1]).to_fp16()\n",
    "learn_c_bwd.load(f'{lang}clas_tweets_bc_sp15_multifit_bwd_v2', purge=False);"
   ]
  },
  {
   "cell_type": "code",
   "execution_count": null,
   "metadata": {
    "colab": {
     "base_uri": "https://localhost:8080/",
     "height": 34
    },
    "executionInfo": {
     "elapsed": 4682,
     "status": "ok",
     "timestamp": 1601430632731,
     "user": {
      "displayName": "Antônio David",
      "photoUrl": "",
      "userId": "07452527623579301827"
     },
     "user_tz": 180
    },
    "id": "cdngy6VjpY8h",
    "outputId": "4a1be4be-2cbb-4c6f-953a-52df1862c3cd"
   },
   "outputs": [],
   "source": [
    "preds_b,targs_b = learn_c_bwd.get_preds(ordered=True)\n",
    "accuracy(preds_b,targs_b),f1(preds_b,targs_b)"
   ]
  },
  {
   "cell_type": "code",
   "execution_count": null,
   "metadata": {
    "executionInfo": {
     "elapsed": 4491,
     "status": "ok",
     "timestamp": 1601430632732,
     "user": {
      "displayName": "Antônio David",
      "photoUrl": "",
      "userId": "07452527623579301827"
     },
     "user_tz": 180
    },
    "id": "6w8R-tYopY8i"
   },
   "outputs": [],
   "source": [
    "preds_avg = (preds+preds_b)/2"
   ]
  },
  {
   "cell_type": "code",
   "execution_count": null,
   "metadata": {
    "colab": {
     "base_uri": "https://localhost:8080/",
     "height": 34
    },
    "executionInfo": {
     "elapsed": 5504,
     "status": "ok",
     "timestamp": 1601430633954,
     "user": {
      "displayName": "Antônio David",
      "photoUrl": "",
      "userId": "07452527623579301827"
     },
     "user_tz": 180
    },
    "id": "nx8nRur0pY8j",
    "outputId": "9ffb9694-51e5-451a-f2c4-0d9ab16da9d8"
   },
   "outputs": [],
   "source": [
    "accuracy(preds_avg,targs_b),f1(preds_avg,targs_b)"
   ]
  },
  {
   "cell_type": "code",
   "execution_count": null,
   "metadata": {
    "colab": {
     "base_uri": "https://localhost:8080/",
     "height": 102
    },
    "executionInfo": {
     "elapsed": 5324,
     "status": "ok",
     "timestamp": 1601430633955,
     "user": {
      "displayName": "Antônio David",
      "photoUrl": "",
      "userId": "07452527623579301827"
     },
     "user_tz": 180
    },
    "id": "XesYCab2pY8l",
    "outputId": "43773e9f-0552-4b9b-82f1-e8f6983ef52c"
   },
   "outputs": [],
   "source": [
    "from sklearn.metrics import confusion_matrix\n",
    "\n",
    "predictions = np.argmax(preds_avg, axis = 1)\n",
    "cm = confusion_matrix(np.array(targs_b), np.array(predictions))\n",
    "print(cm)\n",
    "\n",
    "## acc\n",
    "print(f'accuracy global: {(cm[0,0]+cm[1,1])/(cm.sum())}')\n",
    "\n",
    "# acc neg, acc pos\n",
    "print(f'accuracy on class 0: {cm[0,0]/(cm.sum(1)[0])*100}') \n",
    "print(f'accuracy on class 1: {cm[1,1]/(cm.sum(1)[1])*100}')\n"
   ]
  },
  {
   "cell_type": "code",
   "execution_count": null,
   "metadata": {
    "colab": {
     "base_uri": "https://localhost:8080/",
     "height": 408
    },
    "executionInfo": {
     "elapsed": 5125,
     "status": "ok",
     "timestamp": 1601430633955,
     "user": {
      "displayName": "Antônio David",
      "photoUrl": "",
      "userId": "07452527623579301827"
     },
     "user_tz": 180
    },
    "id": "UnloO_hypY8m",
    "outputId": "e8f9c6e6-f884-4ceb-b10c-344f765a5ee4"
   },
   "outputs": [],
   "source": [
    "from sklearn.metrics import f1_score, classification_report, cohen_kappa_score, accuracy_score, balanced_accuracy_score, roc_auc_score, recall_score, precision_score\n",
    "\n",
    "print(classification_report(y_true=targs_b,\n",
    "                            y_pred=predictions))    \n",
    "\n",
    "print(\"Kappa score: \", cohen_kappa_score(targs_b, predictions),\"\\n\")\n",
    "print(\"Accuracy score: \", accuracy_score(targs_b, predictions),\"\\n\")\n",
    "print(\"f1 macro score: \", f1_score(targs_b, predictions, average='macro'),\"\\n\")\n",
    "print(\"Balanced Accuracy score: \", balanced_accuracy_score(targs_b, predictions),\"\\n\")\n",
    "print(\"ROC AUC: \", roc_auc_score(targs_b, predictions),\"\\n\")\n",
    "print(\"Recall: \", recall_score(targs_b, predictions, pos_label = 0, average='binary'),\"\\n\")\n",
    "print(\"Precision: \", precision_score(targs_b, predictions, pos_label = 0, average='binary'),\"\\n\")\n",
    "\n"
   ]
  },
  {
   "cell_type": "code",
   "execution_count": null,
   "metadata": {
    "executionInfo": {
     "elapsed": 4973,
     "status": "ok",
     "timestamp": 1601430633956,
     "user": {
      "displayName": "Antônio David",
      "photoUrl": "",
      "userId": "07452527623579301827"
     },
     "user_tz": 180
    },
    "id": "-kJ9se0p3BeG"
   },
   "outputs": [],
   "source": []
  }
 ],
 "metadata": {
  "accelerator": "GPU",
  "colab": {
   "collapsed_sections": [],
   "name": "classifica_tweets_multifit.ipynb",
   "provenance": [],
   "toc_visible": true
  },
  "kernelspec": {
   "display_name": "Python 3",
   "language": "python",
   "name": "python3"
  },
  "language_info": {
   "codemirror_mode": {
    "name": "ipython",
    "version": 3
   },
   "file_extension": ".py",
   "mimetype": "text/x-python",
   "name": "python",
   "nbconvert_exporter": "python",
   "pygments_lexer": "ipython3",
   "version": "3.7.7"
  }
 },
 "nbformat": 4,
 "nbformat_minor": 4
}
